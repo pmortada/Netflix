{
 "cells": [
  {
   "cell_type": "markdown",
   "metadata": {},
   "source": [
    "# Netflix EDA and Data Visualization\n",
    "This notebook is an EDA of a netflix Dataset that consists of contents added to Netflix from 2008 to 2021.\n",
    "\n",
    "The purpose of this analysis is to explore, clean and create data visualizations using matplotlib and Tableau.\n",
    "\n",
    "## Resources:\n",
    "* Netflix dataset on kaggle (https://www.kaggle.com/datasets/shivamb/netflix-shows)\n",
    "* Piechart from Python Charts (https://python-charts.com/part-whole/pie-chart-matplotlib/#colors)\n",
    "* Matplotlib colors format (https://matplotlib.org/stable/users/explain/colors/colors.html)\n",
    "* TV parental Guidelines (https://en.wikipedia.org/wiki/TV_Parental_Guidelines#TV-G)\n"
   ]
  },
  {
   "cell_type": "markdown",
   "metadata": {},
   "source": [
    "## 1- Import the data"
   ]
  },
  {
   "cell_type": "code",
   "execution_count": 490,
   "metadata": {},
   "outputs": [],
   "source": [
    "import pandas as pd\n",
    "import matplotlib.pyplot as plt\n",
    "import numpy as np\n"
   ]
  },
  {
   "cell_type": "code",
   "execution_count": 491,
   "metadata": {},
   "outputs": [],
   "source": [
    "movies = pd.read_csv('netflix_titles.csv')"
   ]
  },
  {
   "cell_type": "code",
   "execution_count": 492,
   "metadata": {},
   "outputs": [
    {
     "data": {
      "text/html": [
       "<div>\n",
       "<style scoped>\n",
       "    .dataframe tbody tr th:only-of-type {\n",
       "        vertical-align: middle;\n",
       "    }\n",
       "\n",
       "    .dataframe tbody tr th {\n",
       "        vertical-align: top;\n",
       "    }\n",
       "\n",
       "    .dataframe thead th {\n",
       "        text-align: right;\n",
       "    }\n",
       "</style>\n",
       "<table border=\"1\" class=\"dataframe\">\n",
       "  <thead>\n",
       "    <tr style=\"text-align: right;\">\n",
       "      <th></th>\n",
       "      <th>show_id</th>\n",
       "      <th>type</th>\n",
       "      <th>title</th>\n",
       "      <th>director</th>\n",
       "      <th>cast</th>\n",
       "      <th>country</th>\n",
       "      <th>date_added</th>\n",
       "      <th>release_year</th>\n",
       "      <th>rating</th>\n",
       "      <th>duration</th>\n",
       "      <th>listed_in</th>\n",
       "      <th>description</th>\n",
       "    </tr>\n",
       "  </thead>\n",
       "  <tbody>\n",
       "    <tr>\n",
       "      <th>0</th>\n",
       "      <td>s1</td>\n",
       "      <td>Movie</td>\n",
       "      <td>Dick Johnson Is Dead</td>\n",
       "      <td>Kirsten Johnson</td>\n",
       "      <td>NaN</td>\n",
       "      <td>United States</td>\n",
       "      <td>September 25, 2021</td>\n",
       "      <td>2020</td>\n",
       "      <td>PG-13</td>\n",
       "      <td>90 min</td>\n",
       "      <td>Documentaries</td>\n",
       "      <td>As her father nears the end of his life, filmm...</td>\n",
       "    </tr>\n",
       "    <tr>\n",
       "      <th>1</th>\n",
       "      <td>s2</td>\n",
       "      <td>TV Show</td>\n",
       "      <td>Blood &amp; Water</td>\n",
       "      <td>NaN</td>\n",
       "      <td>Ama Qamata, Khosi Ngema, Gail Mabalane, Thaban...</td>\n",
       "      <td>South Africa</td>\n",
       "      <td>September 24, 2021</td>\n",
       "      <td>2021</td>\n",
       "      <td>TV-MA</td>\n",
       "      <td>2 Seasons</td>\n",
       "      <td>International TV Shows, TV Dramas, TV Mysteries</td>\n",
       "      <td>After crossing paths at a party, a Cape Town t...</td>\n",
       "    </tr>\n",
       "    <tr>\n",
       "      <th>2</th>\n",
       "      <td>s3</td>\n",
       "      <td>TV Show</td>\n",
       "      <td>Ganglands</td>\n",
       "      <td>Julien Leclercq</td>\n",
       "      <td>Sami Bouajila, Tracy Gotoas, Samuel Jouy, Nabi...</td>\n",
       "      <td>NaN</td>\n",
       "      <td>September 24, 2021</td>\n",
       "      <td>2021</td>\n",
       "      <td>TV-MA</td>\n",
       "      <td>1 Season</td>\n",
       "      <td>Crime TV Shows, International TV Shows, TV Act...</td>\n",
       "      <td>To protect his family from a powerful drug lor...</td>\n",
       "    </tr>\n",
       "    <tr>\n",
       "      <th>3</th>\n",
       "      <td>s4</td>\n",
       "      <td>TV Show</td>\n",
       "      <td>Jailbirds New Orleans</td>\n",
       "      <td>NaN</td>\n",
       "      <td>NaN</td>\n",
       "      <td>NaN</td>\n",
       "      <td>September 24, 2021</td>\n",
       "      <td>2021</td>\n",
       "      <td>TV-MA</td>\n",
       "      <td>1 Season</td>\n",
       "      <td>Docuseries, Reality TV</td>\n",
       "      <td>Feuds, flirtations and toilet talk go down amo...</td>\n",
       "    </tr>\n",
       "    <tr>\n",
       "      <th>4</th>\n",
       "      <td>s5</td>\n",
       "      <td>TV Show</td>\n",
       "      <td>Kota Factory</td>\n",
       "      <td>NaN</td>\n",
       "      <td>Mayur More, Jitendra Kumar, Ranjan Raj, Alam K...</td>\n",
       "      <td>India</td>\n",
       "      <td>September 24, 2021</td>\n",
       "      <td>2021</td>\n",
       "      <td>TV-MA</td>\n",
       "      <td>2 Seasons</td>\n",
       "      <td>International TV Shows, Romantic TV Shows, TV ...</td>\n",
       "      <td>In a city of coaching centers known to train I...</td>\n",
       "    </tr>\n",
       "  </tbody>\n",
       "</table>\n",
       "</div>"
      ],
      "text/plain": [
       "  show_id     type                  title         director  \\\n",
       "0      s1    Movie   Dick Johnson Is Dead  Kirsten Johnson   \n",
       "1      s2  TV Show          Blood & Water              NaN   \n",
       "2      s3  TV Show              Ganglands  Julien Leclercq   \n",
       "3      s4  TV Show  Jailbirds New Orleans              NaN   \n",
       "4      s5  TV Show           Kota Factory              NaN   \n",
       "\n",
       "                                                cast        country  \\\n",
       "0                                                NaN  United States   \n",
       "1  Ama Qamata, Khosi Ngema, Gail Mabalane, Thaban...   South Africa   \n",
       "2  Sami Bouajila, Tracy Gotoas, Samuel Jouy, Nabi...            NaN   \n",
       "3                                                NaN            NaN   \n",
       "4  Mayur More, Jitendra Kumar, Ranjan Raj, Alam K...          India   \n",
       "\n",
       "           date_added  release_year rating   duration  \\\n",
       "0  September 25, 2021          2020  PG-13     90 min   \n",
       "1  September 24, 2021          2021  TV-MA  2 Seasons   \n",
       "2  September 24, 2021          2021  TV-MA   1 Season   \n",
       "3  September 24, 2021          2021  TV-MA   1 Season   \n",
       "4  September 24, 2021          2021  TV-MA  2 Seasons   \n",
       "\n",
       "                                           listed_in  \\\n",
       "0                                      Documentaries   \n",
       "1    International TV Shows, TV Dramas, TV Mysteries   \n",
       "2  Crime TV Shows, International TV Shows, TV Act...   \n",
       "3                             Docuseries, Reality TV   \n",
       "4  International TV Shows, Romantic TV Shows, TV ...   \n",
       "\n",
       "                                         description  \n",
       "0  As her father nears the end of his life, filmm...  \n",
       "1  After crossing paths at a party, a Cape Town t...  \n",
       "2  To protect his family from a powerful drug lor...  \n",
       "3  Feuds, flirtations and toilet talk go down amo...  \n",
       "4  In a city of coaching centers known to train I...  "
      ]
     },
     "execution_count": 492,
     "metadata": {},
     "output_type": "execute_result"
    }
   ],
   "source": [
    "movies.head()"
   ]
  },
  {
   "cell_type": "markdown",
   "metadata": {},
   "source": [
    "## 2 - Change the Columns' Names for a Better Visualization"
   ]
  },
  {
   "cell_type": "code",
   "execution_count": 493,
   "metadata": {},
   "outputs": [],
   "source": [
    "movies = movies.rename(columns={'date_added': 'date', 'listed_in':'category', 'rating': 'classification'})"
   ]
  },
  {
   "cell_type": "code",
   "execution_count": 494,
   "metadata": {},
   "outputs": [],
   "source": [
    "movies.columns = movies.columns.str.capitalize()"
   ]
  },
  {
   "cell_type": "code",
   "execution_count": 495,
   "metadata": {},
   "outputs": [
    {
     "data": {
      "text/html": [
       "<div>\n",
       "<style scoped>\n",
       "    .dataframe tbody tr th:only-of-type {\n",
       "        vertical-align: middle;\n",
       "    }\n",
       "\n",
       "    .dataframe tbody tr th {\n",
       "        vertical-align: top;\n",
       "    }\n",
       "\n",
       "    .dataframe thead th {\n",
       "        text-align: right;\n",
       "    }\n",
       "</style>\n",
       "<table border=\"1\" class=\"dataframe\">\n",
       "  <thead>\n",
       "    <tr style=\"text-align: right;\">\n",
       "      <th></th>\n",
       "      <th>Show_id</th>\n",
       "      <th>Type</th>\n",
       "      <th>Title</th>\n",
       "      <th>Director</th>\n",
       "      <th>Cast</th>\n",
       "      <th>Country</th>\n",
       "      <th>Date</th>\n",
       "      <th>Release_year</th>\n",
       "      <th>Classification</th>\n",
       "      <th>Duration</th>\n",
       "      <th>Category</th>\n",
       "      <th>Description</th>\n",
       "    </tr>\n",
       "  </thead>\n",
       "  <tbody>\n",
       "    <tr>\n",
       "      <th>0</th>\n",
       "      <td>s1</td>\n",
       "      <td>Movie</td>\n",
       "      <td>Dick Johnson Is Dead</td>\n",
       "      <td>Kirsten Johnson</td>\n",
       "      <td>NaN</td>\n",
       "      <td>United States</td>\n",
       "      <td>September 25, 2021</td>\n",
       "      <td>2020</td>\n",
       "      <td>PG-13</td>\n",
       "      <td>90 min</td>\n",
       "      <td>Documentaries</td>\n",
       "      <td>As her father nears the end of his life, filmm...</td>\n",
       "    </tr>\n",
       "    <tr>\n",
       "      <th>1</th>\n",
       "      <td>s2</td>\n",
       "      <td>TV Show</td>\n",
       "      <td>Blood &amp; Water</td>\n",
       "      <td>NaN</td>\n",
       "      <td>Ama Qamata, Khosi Ngema, Gail Mabalane, Thaban...</td>\n",
       "      <td>South Africa</td>\n",
       "      <td>September 24, 2021</td>\n",
       "      <td>2021</td>\n",
       "      <td>TV-MA</td>\n",
       "      <td>2 Seasons</td>\n",
       "      <td>International TV Shows, TV Dramas, TV Mysteries</td>\n",
       "      <td>After crossing paths at a party, a Cape Town t...</td>\n",
       "    </tr>\n",
       "    <tr>\n",
       "      <th>2</th>\n",
       "      <td>s3</td>\n",
       "      <td>TV Show</td>\n",
       "      <td>Ganglands</td>\n",
       "      <td>Julien Leclercq</td>\n",
       "      <td>Sami Bouajila, Tracy Gotoas, Samuel Jouy, Nabi...</td>\n",
       "      <td>NaN</td>\n",
       "      <td>September 24, 2021</td>\n",
       "      <td>2021</td>\n",
       "      <td>TV-MA</td>\n",
       "      <td>1 Season</td>\n",
       "      <td>Crime TV Shows, International TV Shows, TV Act...</td>\n",
       "      <td>To protect his family from a powerful drug lor...</td>\n",
       "    </tr>\n",
       "  </tbody>\n",
       "</table>\n",
       "</div>"
      ],
      "text/plain": [
       "  Show_id     Type                 Title         Director  \\\n",
       "0      s1    Movie  Dick Johnson Is Dead  Kirsten Johnson   \n",
       "1      s2  TV Show         Blood & Water              NaN   \n",
       "2      s3  TV Show             Ganglands  Julien Leclercq   \n",
       "\n",
       "                                                Cast        Country  \\\n",
       "0                                                NaN  United States   \n",
       "1  Ama Qamata, Khosi Ngema, Gail Mabalane, Thaban...   South Africa   \n",
       "2  Sami Bouajila, Tracy Gotoas, Samuel Jouy, Nabi...            NaN   \n",
       "\n",
       "                 Date  Release_year Classification   Duration  \\\n",
       "0  September 25, 2021          2020          PG-13     90 min   \n",
       "1  September 24, 2021          2021          TV-MA  2 Seasons   \n",
       "2  September 24, 2021          2021          TV-MA   1 Season   \n",
       "\n",
       "                                            Category  \\\n",
       "0                                      Documentaries   \n",
       "1    International TV Shows, TV Dramas, TV Mysteries   \n",
       "2  Crime TV Shows, International TV Shows, TV Act...   \n",
       "\n",
       "                                         Description  \n",
       "0  As her father nears the end of his life, filmm...  \n",
       "1  After crossing paths at a party, a Cape Town t...  \n",
       "2  To protect his family from a powerful drug lor...  "
      ]
     },
     "execution_count": 495,
     "metadata": {},
     "output_type": "execute_result"
    }
   ],
   "source": [
    "movies.head(3)"
   ]
  },
  {
   "cell_type": "markdown",
   "metadata": {},
   "source": [
    "## 3 - Check Movies Info and NANs"
   ]
  },
  {
   "cell_type": "code",
   "execution_count": 496,
   "metadata": {},
   "outputs": [
    {
     "data": {
      "text/plain": [
       "(8807, 12)"
      ]
     },
     "execution_count": 496,
     "metadata": {},
     "output_type": "execute_result"
    }
   ],
   "source": [
    "movies.shape"
   ]
  },
  {
   "cell_type": "code",
   "execution_count": 497,
   "metadata": {},
   "outputs": [
    {
     "name": "stdout",
     "output_type": "stream",
     "text": [
      "<class 'pandas.core.frame.DataFrame'>\n",
      "RangeIndex: 8807 entries, 0 to 8806\n",
      "Data columns (total 12 columns):\n",
      " #   Column          Non-Null Count  Dtype \n",
      "---  ------          --------------  ----- \n",
      " 0   Show_id         8807 non-null   object\n",
      " 1   Type            8807 non-null   object\n",
      " 2   Title           8807 non-null   object\n",
      " 3   Director        6173 non-null   object\n",
      " 4   Cast            7982 non-null   object\n",
      " 5   Country         7976 non-null   object\n",
      " 6   Date            8797 non-null   object\n",
      " 7   Release_year    8807 non-null   int64 \n",
      " 8   Classification  8803 non-null   object\n",
      " 9   Duration        8804 non-null   object\n",
      " 10  Category        8807 non-null   object\n",
      " 11  Description     8807 non-null   object\n",
      "dtypes: int64(1), object(11)\n",
      "memory usage: 825.8+ KB\n"
     ]
    }
   ],
   "source": [
    "movies.info()"
   ]
  },
  {
   "cell_type": "code",
   "execution_count": 498,
   "metadata": {},
   "outputs": [
    {
     "data": {
      "text/plain": [
       "Show_id              0\n",
       "Type                 0\n",
       "Title                0\n",
       "Director          2634\n",
       "Cast               825\n",
       "Country            831\n",
       "Date                10\n",
       "Release_year         0\n",
       "Classification       4\n",
       "Duration             3\n",
       "Category             0\n",
       "Description          0\n",
       "dtype: int64"
      ]
     },
     "execution_count": 498,
     "metadata": {},
     "output_type": "execute_result"
    }
   ],
   "source": [
    "pd.isnull(movies).sum()"
   ]
  },
  {
   "cell_type": "markdown",
   "metadata": {},
   "source": [
    "## 4- Delete NANs from the Duration, Classification and Date Columns"
   ]
  },
  {
   "cell_type": "code",
   "execution_count": 499,
   "metadata": {},
   "outputs": [],
   "source": [
    "movies= movies.dropna(subset = ['Duration','Classification', 'Date'])"
   ]
  },
  {
   "cell_type": "code",
   "execution_count": 500,
   "metadata": {},
   "outputs": [
    {
     "data": {
      "text/plain": [
       "Show_id              0\n",
       "Type                 0\n",
       "Title                0\n",
       "Director          2621\n",
       "Cast               825\n",
       "Country            829\n",
       "Date                 0\n",
       "Release_year         0\n",
       "Classification       0\n",
       "Duration             0\n",
       "Category             0\n",
       "Description          0\n",
       "dtype: int64"
      ]
     },
     "execution_count": 500,
     "metadata": {},
     "output_type": "execute_result"
    }
   ],
   "source": [
    "pd.isnull(movies).sum()"
   ]
  },
  {
   "cell_type": "markdown",
   "metadata": {},
   "source": [
    "## 5 - Deal with the NANs in the Country, Cast, and Director Columns\n",
    "\n",
    "As there are a lot of NANs I decided to replace by Unknown to not affect the analysis."
   ]
  },
  {
   "cell_type": "code",
   "execution_count": 501,
   "metadata": {},
   "outputs": [],
   "source": [
    "movies[['Country', 'Cast', 'Director']] = movies[['Country', 'Cast', 'Director']].replace(np.nan, 'Unknown')"
   ]
  },
  {
   "cell_type": "code",
   "execution_count": 502,
   "metadata": {},
   "outputs": [
    {
     "data": {
      "text/plain": [
       "Country\n",
       "United States                             2809\n",
       "India                                      972\n",
       "Unknown                                    829\n",
       "United Kingdom                             418\n",
       "Japan                                      243\n",
       "                                          ... \n",
       "Romania, Bulgaria, Hungary                   1\n",
       "Uruguay, Guatemala                           1\n",
       "France, Senegal, Belgium                     1\n",
       "Mexico, United States, Spain, Colombia       1\n",
       "United Arab Emirates, Jordan                 1\n",
       "Name: count, Length: 749, dtype: int64"
      ]
     },
     "execution_count": 502,
     "metadata": {},
     "output_type": "execute_result"
    }
   ],
   "source": [
    "movies['Country'].value_counts()"
   ]
  },
  {
   "cell_type": "code",
   "execution_count": 503,
   "metadata": {},
   "outputs": [
    {
     "data": {
      "text/plain": [
       "Show_id           0\n",
       "Type              0\n",
       "Title             0\n",
       "Director          0\n",
       "Cast              0\n",
       "Country           0\n",
       "Date              0\n",
       "Release_year      0\n",
       "Classification    0\n",
       "Duration          0\n",
       "Category          0\n",
       "Description       0\n",
       "dtype: int64"
      ]
     },
     "execution_count": 503,
     "metadata": {},
     "output_type": "execute_result"
    }
   ],
   "source": [
    "movies.isnull().sum()"
   ]
  },
  {
   "cell_type": "markdown",
   "metadata": {},
   "source": [
    "## 6 - Transform the Date column into Datatime"
   ]
  },
  {
   "cell_type": "code",
   "execution_count": 504,
   "metadata": {},
   "outputs": [],
   "source": [
    "from datetime import datetime"
   ]
  },
  {
   "cell_type": "code",
   "execution_count": 505,
   "metadata": {},
   "outputs": [],
   "source": [
    "movies['Date'] = movies['Date'].str.strip() #to remove before and after spaces\n",
    "movies['Date'] = pd.to_datetime(movies['Date'], format=\"%B %d, %Y\")"
   ]
  },
  {
   "cell_type": "code",
   "execution_count": 506,
   "metadata": {},
   "outputs": [
    {
     "name": "stdout",
     "output_type": "stream",
     "text": [
      "<class 'pandas.core.frame.DataFrame'>\n",
      "Index: 8790 entries, 0 to 8806\n",
      "Data columns (total 12 columns):\n",
      " #   Column          Non-Null Count  Dtype         \n",
      "---  ------          --------------  -----         \n",
      " 0   Show_id         8790 non-null   object        \n",
      " 1   Type            8790 non-null   object        \n",
      " 2   Title           8790 non-null   object        \n",
      " 3   Director        8790 non-null   object        \n",
      " 4   Cast            8790 non-null   object        \n",
      " 5   Country         8790 non-null   object        \n",
      " 6   Date            8790 non-null   datetime64[ns]\n",
      " 7   Release_year    8790 non-null   int64         \n",
      " 8   Classification  8790 non-null   object        \n",
      " 9   Duration        8790 non-null   object        \n",
      " 10  Category        8790 non-null   object        \n",
      " 11  Description     8790 non-null   object        \n",
      "dtypes: datetime64[ns](1), int64(1), object(10)\n",
      "memory usage: 892.7+ KB\n"
     ]
    }
   ],
   "source": [
    "movies.info()"
   ]
  },
  {
   "cell_type": "markdown",
   "metadata": {},
   "source": [
    "## ? Create a subset of cast (if I find another dataset)"
   ]
  },
  {
   "cell_type": "code",
   "execution_count": 507,
   "metadata": {},
   "outputs": [],
   "source": [
    "#movies= movies.drop(columns=['Cast'])\n",
    "#count how many names in the cast"
   ]
  },
  {
   "cell_type": "code",
   "execution_count": 508,
   "metadata": {},
   "outputs": [
    {
     "data": {
      "text/html": [
       "<div>\n",
       "<style scoped>\n",
       "    .dataframe tbody tr th:only-of-type {\n",
       "        vertical-align: middle;\n",
       "    }\n",
       "\n",
       "    .dataframe tbody tr th {\n",
       "        vertical-align: top;\n",
       "    }\n",
       "\n",
       "    .dataframe thead th {\n",
       "        text-align: right;\n",
       "    }\n",
       "</style>\n",
       "<table border=\"1\" class=\"dataframe\">\n",
       "  <thead>\n",
       "    <tr style=\"text-align: right;\">\n",
       "      <th></th>\n",
       "      <th>Show_id</th>\n",
       "      <th>Type</th>\n",
       "      <th>Title</th>\n",
       "      <th>Director</th>\n",
       "      <th>Cast</th>\n",
       "      <th>Country</th>\n",
       "      <th>Date</th>\n",
       "      <th>Release_year</th>\n",
       "      <th>Classification</th>\n",
       "      <th>Duration</th>\n",
       "      <th>Category</th>\n",
       "      <th>Description</th>\n",
       "    </tr>\n",
       "  </thead>\n",
       "  <tbody>\n",
       "    <tr>\n",
       "      <th>0</th>\n",
       "      <td>s1</td>\n",
       "      <td>Movie</td>\n",
       "      <td>Dick Johnson Is Dead</td>\n",
       "      <td>Kirsten Johnson</td>\n",
       "      <td>Unknown</td>\n",
       "      <td>United States</td>\n",
       "      <td>2021-09-25</td>\n",
       "      <td>2020</td>\n",
       "      <td>PG-13</td>\n",
       "      <td>90 min</td>\n",
       "      <td>Documentaries</td>\n",
       "      <td>As her father nears the end of his life, filmm...</td>\n",
       "    </tr>\n",
       "    <tr>\n",
       "      <th>1</th>\n",
       "      <td>s2</td>\n",
       "      <td>TV Show</td>\n",
       "      <td>Blood &amp; Water</td>\n",
       "      <td>Unknown</td>\n",
       "      <td>Ama Qamata, Khosi Ngema, Gail Mabalane, Thaban...</td>\n",
       "      <td>South Africa</td>\n",
       "      <td>2021-09-24</td>\n",
       "      <td>2021</td>\n",
       "      <td>TV-MA</td>\n",
       "      <td>2 Seasons</td>\n",
       "      <td>International TV Shows, TV Dramas, TV Mysteries</td>\n",
       "      <td>After crossing paths at a party, a Cape Town t...</td>\n",
       "    </tr>\n",
       "    <tr>\n",
       "      <th>2</th>\n",
       "      <td>s3</td>\n",
       "      <td>TV Show</td>\n",
       "      <td>Ganglands</td>\n",
       "      <td>Julien Leclercq</td>\n",
       "      <td>Sami Bouajila, Tracy Gotoas, Samuel Jouy, Nabi...</td>\n",
       "      <td>Unknown</td>\n",
       "      <td>2021-09-24</td>\n",
       "      <td>2021</td>\n",
       "      <td>TV-MA</td>\n",
       "      <td>1 Season</td>\n",
       "      <td>Crime TV Shows, International TV Shows, TV Act...</td>\n",
       "      <td>To protect his family from a powerful drug lor...</td>\n",
       "    </tr>\n",
       "  </tbody>\n",
       "</table>\n",
       "</div>"
      ],
      "text/plain": [
       "  Show_id     Type                 Title         Director  \\\n",
       "0      s1    Movie  Dick Johnson Is Dead  Kirsten Johnson   \n",
       "1      s2  TV Show         Blood & Water          Unknown   \n",
       "2      s3  TV Show             Ganglands  Julien Leclercq   \n",
       "\n",
       "                                                Cast        Country  \\\n",
       "0                                            Unknown  United States   \n",
       "1  Ama Qamata, Khosi Ngema, Gail Mabalane, Thaban...   South Africa   \n",
       "2  Sami Bouajila, Tracy Gotoas, Samuel Jouy, Nabi...        Unknown   \n",
       "\n",
       "        Date  Release_year Classification   Duration  \\\n",
       "0 2021-09-25          2020          PG-13     90 min   \n",
       "1 2021-09-24          2021          TV-MA  2 Seasons   \n",
       "2 2021-09-24          2021          TV-MA   1 Season   \n",
       "\n",
       "                                            Category  \\\n",
       "0                                      Documentaries   \n",
       "1    International TV Shows, TV Dramas, TV Mysteries   \n",
       "2  Crime TV Shows, International TV Shows, TV Act...   \n",
       "\n",
       "                                         Description  \n",
       "0  As her father nears the end of his life, filmm...  \n",
       "1  After crossing paths at a party, a Cape Town t...  \n",
       "2  To protect his family from a powerful drug lor...  "
      ]
     },
     "execution_count": 508,
     "metadata": {},
     "output_type": "execute_result"
    }
   ],
   "source": [
    "movies.head(3)"
   ]
  },
  {
   "cell_type": "code",
   "execution_count": 509,
   "metadata": {},
   "outputs": [
    {
     "data": {
      "text/plain": [
       "Cast\n",
       "Unknown                                                                                                                                          825\n",
       "David Attenborough                                                                                                                                19\n",
       "Vatsal Dubey, Julie Tejwani, Rupa Bhimani, Jigna Bhardwaj, Rajesh Kava, Mousam, Swapnil                                                           14\n",
       "Samuel West                                                                                                                                       10\n",
       "Jeff Dunham                                                                                                                                        7\n",
       "                                                                                                                                                ... \n",
       "Sanjay Dutt, Arjun Kapoor, Kriti Sanon, Zeenat Aman, Mohnish Bahl, Padmini Kolhapure, Kunal Kapoor, Suhasini Mulay                                 1\n",
       "Lika Berning, Bobby van Jaarsveld, Marlee van der Merwe, Sonja Herholdt, Elize Cawood, Rouel Beukes, Kevin Leo, Paul du Toit, Sylvaine Strike      1\n",
       "Lisa Vicari, Dennis Mojen, Walid Al-Atiyat, Christina Hecke, Zoë Straub, Lisa Hagmeister, Hans-Jochen Wagner, André Eisermann, Ernst Stötzner      1\n",
       "Piotr Cyrwus, Mikołaj Kubacki, Anna Radwan, Marian Dziędziel, Jan Nowicki, Juliusz Chrząstowski, Małgorzata Krzysica, Jacek Strama                 1\n",
       "Vicky Kaushal, Sarah-Jane Dias, Raaghav Chanana, Manish Chaudhary, Meghna Malik, Malkeet Rauni, Anita Shabdish, Chittaranjan Tripathy              1\n",
       "Name: count, Length: 7679, dtype: int64"
      ]
     },
     "execution_count": 509,
     "metadata": {},
     "output_type": "execute_result"
    }
   ],
   "source": [
    "movies['Cast'].value_counts()"
   ]
  },
  {
   "cell_type": "markdown",
   "metadata": {},
   "source": [
    "## 7 - Create a Subset for Country"
   ]
  },
  {
   "cell_type": "code",
   "execution_count": 510,
   "metadata": {},
   "outputs": [],
   "source": [
    "countries = movies[['Show_id', 'Title', 'Country', 'Category']]"
   ]
  },
  {
   "cell_type": "code",
   "execution_count": 511,
   "metadata": {},
   "outputs": [
    {
     "data": {
      "text/html": [
       "<div>\n",
       "<style scoped>\n",
       "    .dataframe tbody tr th:only-of-type {\n",
       "        vertical-align: middle;\n",
       "    }\n",
       "\n",
       "    .dataframe tbody tr th {\n",
       "        vertical-align: top;\n",
       "    }\n",
       "\n",
       "    .dataframe thead th {\n",
       "        text-align: right;\n",
       "    }\n",
       "</style>\n",
       "<table border=\"1\" class=\"dataframe\">\n",
       "  <thead>\n",
       "    <tr style=\"text-align: right;\">\n",
       "      <th></th>\n",
       "      <th>Show_id</th>\n",
       "      <th>Title</th>\n",
       "      <th>Country</th>\n",
       "      <th>Category</th>\n",
       "    </tr>\n",
       "  </thead>\n",
       "  <tbody>\n",
       "    <tr>\n",
       "      <th>0</th>\n",
       "      <td>s1</td>\n",
       "      <td>Dick Johnson Is Dead</td>\n",
       "      <td>United States</td>\n",
       "      <td>Documentaries</td>\n",
       "    </tr>\n",
       "    <tr>\n",
       "      <th>1</th>\n",
       "      <td>s2</td>\n",
       "      <td>Blood &amp; Water</td>\n",
       "      <td>South Africa</td>\n",
       "      <td>International TV Shows, TV Dramas, TV Mysteries</td>\n",
       "    </tr>\n",
       "    <tr>\n",
       "      <th>2</th>\n",
       "      <td>s3</td>\n",
       "      <td>Ganglands</td>\n",
       "      <td>Unknown</td>\n",
       "      <td>Crime TV Shows, International TV Shows, TV Act...</td>\n",
       "    </tr>\n",
       "    <tr>\n",
       "      <th>3</th>\n",
       "      <td>s4</td>\n",
       "      <td>Jailbirds New Orleans</td>\n",
       "      <td>Unknown</td>\n",
       "      <td>Docuseries, Reality TV</td>\n",
       "    </tr>\n",
       "    <tr>\n",
       "      <th>4</th>\n",
       "      <td>s5</td>\n",
       "      <td>Kota Factory</td>\n",
       "      <td>India</td>\n",
       "      <td>International TV Shows, Romantic TV Shows, TV ...</td>\n",
       "    </tr>\n",
       "    <tr>\n",
       "      <th>...</th>\n",
       "      <td>...</td>\n",
       "      <td>...</td>\n",
       "      <td>...</td>\n",
       "      <td>...</td>\n",
       "    </tr>\n",
       "    <tr>\n",
       "      <th>8802</th>\n",
       "      <td>s8803</td>\n",
       "      <td>Zodiac</td>\n",
       "      <td>United States</td>\n",
       "      <td>Cult Movies, Dramas, Thrillers</td>\n",
       "    </tr>\n",
       "    <tr>\n",
       "      <th>8803</th>\n",
       "      <td>s8804</td>\n",
       "      <td>Zombie Dumb</td>\n",
       "      <td>Unknown</td>\n",
       "      <td>Kids' TV, Korean TV Shows, TV Comedies</td>\n",
       "    </tr>\n",
       "    <tr>\n",
       "      <th>8804</th>\n",
       "      <td>s8805</td>\n",
       "      <td>Zombieland</td>\n",
       "      <td>United States</td>\n",
       "      <td>Comedies, Horror Movies</td>\n",
       "    </tr>\n",
       "    <tr>\n",
       "      <th>8805</th>\n",
       "      <td>s8806</td>\n",
       "      <td>Zoom</td>\n",
       "      <td>United States</td>\n",
       "      <td>Children &amp; Family Movies, Comedies</td>\n",
       "    </tr>\n",
       "    <tr>\n",
       "      <th>8806</th>\n",
       "      <td>s8807</td>\n",
       "      <td>Zubaan</td>\n",
       "      <td>India</td>\n",
       "      <td>Dramas, International Movies, Music &amp; Musicals</td>\n",
       "    </tr>\n",
       "  </tbody>\n",
       "</table>\n",
       "<p>8790 rows × 4 columns</p>\n",
       "</div>"
      ],
      "text/plain": [
       "     Show_id                  Title        Country  \\\n",
       "0         s1   Dick Johnson Is Dead  United States   \n",
       "1         s2          Blood & Water   South Africa   \n",
       "2         s3              Ganglands        Unknown   \n",
       "3         s4  Jailbirds New Orleans        Unknown   \n",
       "4         s5           Kota Factory          India   \n",
       "...      ...                    ...            ...   \n",
       "8802   s8803                 Zodiac  United States   \n",
       "8803   s8804            Zombie Dumb        Unknown   \n",
       "8804   s8805             Zombieland  United States   \n",
       "8805   s8806                   Zoom  United States   \n",
       "8806   s8807                 Zubaan          India   \n",
       "\n",
       "                                               Category  \n",
       "0                                         Documentaries  \n",
       "1       International TV Shows, TV Dramas, TV Mysteries  \n",
       "2     Crime TV Shows, International TV Shows, TV Act...  \n",
       "3                                Docuseries, Reality TV  \n",
       "4     International TV Shows, Romantic TV Shows, TV ...  \n",
       "...                                                 ...  \n",
       "8802                     Cult Movies, Dramas, Thrillers  \n",
       "8803             Kids' TV, Korean TV Shows, TV Comedies  \n",
       "8804                            Comedies, Horror Movies  \n",
       "8805                 Children & Family Movies, Comedies  \n",
       "8806     Dramas, International Movies, Music & Musicals  \n",
       "\n",
       "[8790 rows x 4 columns]"
      ]
     },
     "execution_count": 511,
     "metadata": {},
     "output_type": "execute_result"
    }
   ],
   "source": [
    "countries"
   ]
  },
  {
   "cell_type": "code",
   "execution_count": 512,
   "metadata": {},
   "outputs": [
    {
     "data": {
      "text/plain": [
       "Country\n",
       "United States                             2809\n",
       "India                                      972\n",
       "Unknown                                    829\n",
       "United Kingdom                             418\n",
       "Japan                                      243\n",
       "                                          ... \n",
       "Romania, Bulgaria, Hungary                   1\n",
       "Uruguay, Guatemala                           1\n",
       "France, Senegal, Belgium                     1\n",
       "Mexico, United States, Spain, Colombia       1\n",
       "United Arab Emirates, Jordan                 1\n",
       "Name: count, Length: 749, dtype: int64"
      ]
     },
     "execution_count": 512,
     "metadata": {},
     "output_type": "execute_result"
    }
   ],
   "source": [
    "countries['Country'].value_counts()"
   ]
  },
  {
   "cell_type": "markdown",
   "metadata": {},
   "source": [
    "## 7a - Explode the Countries by Separated Rows"
   ]
  },
  {
   "cell_type": "code",
   "execution_count": 573,
   "metadata": {},
   "outputs": [],
   "source": [
    "countries_clean = countries.assign(Country=countries['Country'].str.split(',')).explode('Country')\n",
    "countries_clean['Country'] = countries_clean['Country'].str.strip()"
   ]
  },
  {
   "cell_type": "code",
   "execution_count": 574,
   "metadata": {},
   "outputs": [
    {
     "data": {
      "text/html": [
       "<div>\n",
       "<style scoped>\n",
       "    .dataframe tbody tr th:only-of-type {\n",
       "        vertical-align: middle;\n",
       "    }\n",
       "\n",
       "    .dataframe tbody tr th {\n",
       "        vertical-align: top;\n",
       "    }\n",
       "\n",
       "    .dataframe thead th {\n",
       "        text-align: right;\n",
       "    }\n",
       "</style>\n",
       "<table border=\"1\" class=\"dataframe\">\n",
       "  <thead>\n",
       "    <tr style=\"text-align: right;\">\n",
       "      <th></th>\n",
       "      <th>Show_id</th>\n",
       "      <th>Title</th>\n",
       "      <th>Country</th>\n",
       "      <th>Category</th>\n",
       "    </tr>\n",
       "  </thead>\n",
       "  <tbody>\n",
       "    <tr>\n",
       "      <th>0</th>\n",
       "      <td>s1</td>\n",
       "      <td>Dick Johnson Is Dead</td>\n",
       "      <td>United States</td>\n",
       "      <td>Documentaries</td>\n",
       "    </tr>\n",
       "    <tr>\n",
       "      <th>1</th>\n",
       "      <td>s2</td>\n",
       "      <td>Blood &amp; Water</td>\n",
       "      <td>South Africa</td>\n",
       "      <td>International TV Shows, TV Dramas, TV Mysteries</td>\n",
       "    </tr>\n",
       "    <tr>\n",
       "      <th>2</th>\n",
       "      <td>s3</td>\n",
       "      <td>Ganglands</td>\n",
       "      <td>Unknown</td>\n",
       "      <td>Crime TV Shows, International TV Shows, TV Act...</td>\n",
       "    </tr>\n",
       "    <tr>\n",
       "      <th>3</th>\n",
       "      <td>s4</td>\n",
       "      <td>Jailbirds New Orleans</td>\n",
       "      <td>Unknown</td>\n",
       "      <td>Docuseries, Reality TV</td>\n",
       "    </tr>\n",
       "    <tr>\n",
       "      <th>4</th>\n",
       "      <td>s5</td>\n",
       "      <td>Kota Factory</td>\n",
       "      <td>India</td>\n",
       "      <td>International TV Shows, Romantic TV Shows, TV ...</td>\n",
       "    </tr>\n",
       "    <tr>\n",
       "      <th>...</th>\n",
       "      <td>...</td>\n",
       "      <td>...</td>\n",
       "      <td>...</td>\n",
       "      <td>...</td>\n",
       "    </tr>\n",
       "    <tr>\n",
       "      <th>8785</th>\n",
       "      <td>s8803</td>\n",
       "      <td>Zodiac</td>\n",
       "      <td>United States</td>\n",
       "      <td>Cult Movies, Dramas, Thrillers</td>\n",
       "    </tr>\n",
       "    <tr>\n",
       "      <th>8786</th>\n",
       "      <td>s8804</td>\n",
       "      <td>Zombie Dumb</td>\n",
       "      <td>Unknown</td>\n",
       "      <td>Kids' TV, Korean TV Shows, TV Comedies</td>\n",
       "    </tr>\n",
       "    <tr>\n",
       "      <th>8787</th>\n",
       "      <td>s8805</td>\n",
       "      <td>Zombieland</td>\n",
       "      <td>United States</td>\n",
       "      <td>Comedies, Horror Movies</td>\n",
       "    </tr>\n",
       "    <tr>\n",
       "      <th>8788</th>\n",
       "      <td>s8806</td>\n",
       "      <td>Zoom</td>\n",
       "      <td>United States</td>\n",
       "      <td>Children &amp; Family Movies, Comedies</td>\n",
       "    </tr>\n",
       "    <tr>\n",
       "      <th>8789</th>\n",
       "      <td>s8807</td>\n",
       "      <td>Zubaan</td>\n",
       "      <td>India</td>\n",
       "      <td>Dramas, International Movies, Music &amp; Musicals</td>\n",
       "    </tr>\n",
       "  </tbody>\n",
       "</table>\n",
       "<p>10833 rows × 4 columns</p>\n",
       "</div>"
      ],
      "text/plain": [
       "     Show_id                  Title        Country  \\\n",
       "0         s1   Dick Johnson Is Dead  United States   \n",
       "1         s2          Blood & Water   South Africa   \n",
       "2         s3              Ganglands        Unknown   \n",
       "3         s4  Jailbirds New Orleans        Unknown   \n",
       "4         s5           Kota Factory          India   \n",
       "...      ...                    ...            ...   \n",
       "8785   s8803                 Zodiac  United States   \n",
       "8786   s8804            Zombie Dumb        Unknown   \n",
       "8787   s8805             Zombieland  United States   \n",
       "8788   s8806                   Zoom  United States   \n",
       "8789   s8807                 Zubaan          India   \n",
       "\n",
       "                                               Category  \n",
       "0                                         Documentaries  \n",
       "1       International TV Shows, TV Dramas, TV Mysteries  \n",
       "2     Crime TV Shows, International TV Shows, TV Act...  \n",
       "3                                Docuseries, Reality TV  \n",
       "4     International TV Shows, Romantic TV Shows, TV ...  \n",
       "...                                                 ...  \n",
       "8785                     Cult Movies, Dramas, Thrillers  \n",
       "8786             Kids' TV, Korean TV Shows, TV Comedies  \n",
       "8787                            Comedies, Horror Movies  \n",
       "8788                 Children & Family Movies, Comedies  \n",
       "8789     Dramas, International Movies, Music & Musicals  \n",
       "\n",
       "[10833 rows x 4 columns]"
      ]
     },
     "execution_count": 574,
     "metadata": {},
     "output_type": "execute_result"
    }
   ],
   "source": [
    "countries_clean"
   ]
  },
  {
   "cell_type": "code",
   "execution_count": 575,
   "metadata": {},
   "outputs": [
    {
     "data": {
      "text/plain": [
       "Country\n",
       "United States     3681\n",
       "India             1046\n",
       "Unknown            829\n",
       "United Kingdom     805\n",
       "Canada             445\n",
       "                  ... \n",
       "Ecuador              1\n",
       "Armenia              1\n",
       "Mongolia             1\n",
       "Bahamas              1\n",
       "Montenegro           1\n",
       "Name: count, Length: 124, dtype: int64"
      ]
     },
     "execution_count": 575,
     "metadata": {},
     "output_type": "execute_result"
    }
   ],
   "source": [
    "countries_clean['Country'].value_counts()"
   ]
  },
  {
   "cell_type": "markdown",
   "metadata": {},
   "source": [
    "## 7b - Create a New Column to Store the Original Combination of Countries"
   ]
  },
  {
   "cell_type": "code",
   "execution_count": 576,
   "metadata": {},
   "outputs": [],
   "source": [
    "countries_clean = countries_clean.reset_index(drop=True)\n",
    "countries = countries.reset_index(drop=True)\n",
    "countries_clean['Countries_Combined'] = countries['Country']"
   ]
  },
  {
   "cell_type": "code",
   "execution_count": 555,
   "metadata": {},
   "outputs": [
    {
     "data": {
      "text/html": [
       "<div>\n",
       "<style scoped>\n",
       "    .dataframe tbody tr th:only-of-type {\n",
       "        vertical-align: middle;\n",
       "    }\n",
       "\n",
       "    .dataframe tbody tr th {\n",
       "        vertical-align: top;\n",
       "    }\n",
       "\n",
       "    .dataframe thead th {\n",
       "        text-align: right;\n",
       "    }\n",
       "</style>\n",
       "<table border=\"1\" class=\"dataframe\">\n",
       "  <thead>\n",
       "    <tr style=\"text-align: right;\">\n",
       "      <th></th>\n",
       "      <th>Show_id</th>\n",
       "      <th>Title</th>\n",
       "      <th>Country</th>\n",
       "      <th>Category</th>\n",
       "      <th>country</th>\n",
       "      <th>Countries_Combined</th>\n",
       "    </tr>\n",
       "  </thead>\n",
       "  <tbody>\n",
       "    <tr>\n",
       "      <th>0</th>\n",
       "      <td>s1</td>\n",
       "      <td>Dick Johnson Is Dead</td>\n",
       "      <td>United States</td>\n",
       "      <td>Documentaries</td>\n",
       "      <td>[United States]</td>\n",
       "      <td>United States</td>\n",
       "    </tr>\n",
       "    <tr>\n",
       "      <th>1</th>\n",
       "      <td>s2</td>\n",
       "      <td>Blood &amp; Water</td>\n",
       "      <td>South Africa</td>\n",
       "      <td>International TV Shows, TV Dramas, TV Mysteries</td>\n",
       "      <td>[South Africa]</td>\n",
       "      <td>South Africa</td>\n",
       "    </tr>\n",
       "    <tr>\n",
       "      <th>2</th>\n",
       "      <td>s3</td>\n",
       "      <td>Ganglands</td>\n",
       "      <td>Unknown</td>\n",
       "      <td>Crime TV Shows, International TV Shows, TV Act...</td>\n",
       "      <td>[Unknown]</td>\n",
       "      <td>Unknown</td>\n",
       "    </tr>\n",
       "    <tr>\n",
       "      <th>3</th>\n",
       "      <td>s4</td>\n",
       "      <td>Jailbirds New Orleans</td>\n",
       "      <td>Unknown</td>\n",
       "      <td>Docuseries, Reality TV</td>\n",
       "      <td>[Unknown]</td>\n",
       "      <td>Unknown</td>\n",
       "    </tr>\n",
       "    <tr>\n",
       "      <th>4</th>\n",
       "      <td>s5</td>\n",
       "      <td>Kota Factory</td>\n",
       "      <td>India</td>\n",
       "      <td>International TV Shows, Romantic TV Shows, TV ...</td>\n",
       "      <td>[India]</td>\n",
       "      <td>India</td>\n",
       "    </tr>\n",
       "    <tr>\n",
       "      <th>...</th>\n",
       "      <td>...</td>\n",
       "      <td>...</td>\n",
       "      <td>...</td>\n",
       "      <td>...</td>\n",
       "      <td>...</td>\n",
       "      <td>...</td>\n",
       "    </tr>\n",
       "    <tr>\n",
       "      <th>8785</th>\n",
       "      <td>s8803</td>\n",
       "      <td>Zodiac</td>\n",
       "      <td>United States</td>\n",
       "      <td>Cult Movies, Dramas, Thrillers</td>\n",
       "      <td>[United States]</td>\n",
       "      <td>United States</td>\n",
       "    </tr>\n",
       "    <tr>\n",
       "      <th>8786</th>\n",
       "      <td>s8804</td>\n",
       "      <td>Zombie Dumb</td>\n",
       "      <td>Unknown</td>\n",
       "      <td>Kids' TV, Korean TV Shows, TV Comedies</td>\n",
       "      <td>[Unknown]</td>\n",
       "      <td>Unknown</td>\n",
       "    </tr>\n",
       "    <tr>\n",
       "      <th>8787</th>\n",
       "      <td>s8805</td>\n",
       "      <td>Zombieland</td>\n",
       "      <td>United States</td>\n",
       "      <td>Comedies, Horror Movies</td>\n",
       "      <td>[United States]</td>\n",
       "      <td>United States</td>\n",
       "    </tr>\n",
       "    <tr>\n",
       "      <th>8788</th>\n",
       "      <td>s8806</td>\n",
       "      <td>Zoom</td>\n",
       "      <td>United States</td>\n",
       "      <td>Children &amp; Family Movies, Comedies</td>\n",
       "      <td>[United States]</td>\n",
       "      <td>United States</td>\n",
       "    </tr>\n",
       "    <tr>\n",
       "      <th>8789</th>\n",
       "      <td>s8807</td>\n",
       "      <td>Zubaan</td>\n",
       "      <td>India</td>\n",
       "      <td>Dramas, International Movies, Music &amp; Musicals</td>\n",
       "      <td>[India]</td>\n",
       "      <td>India</td>\n",
       "    </tr>\n",
       "  </tbody>\n",
       "</table>\n",
       "<p>8790 rows × 6 columns</p>\n",
       "</div>"
      ],
      "text/plain": [
       "     Show_id                  Title        Country  \\\n",
       "0         s1   Dick Johnson Is Dead  United States   \n",
       "1         s2          Blood & Water   South Africa   \n",
       "2         s3              Ganglands        Unknown   \n",
       "3         s4  Jailbirds New Orleans        Unknown   \n",
       "4         s5           Kota Factory          India   \n",
       "...      ...                    ...            ...   \n",
       "8785   s8803                 Zodiac  United States   \n",
       "8786   s8804            Zombie Dumb        Unknown   \n",
       "8787   s8805             Zombieland  United States   \n",
       "8788   s8806                   Zoom  United States   \n",
       "8789   s8807                 Zubaan          India   \n",
       "\n",
       "                                               Category          country  \\\n",
       "0                                         Documentaries  [United States]   \n",
       "1       International TV Shows, TV Dramas, TV Mysteries   [South Africa]   \n",
       "2     Crime TV Shows, International TV Shows, TV Act...        [Unknown]   \n",
       "3                                Docuseries, Reality TV        [Unknown]   \n",
       "4     International TV Shows, Romantic TV Shows, TV ...          [India]   \n",
       "...                                                 ...              ...   \n",
       "8785                     Cult Movies, Dramas, Thrillers  [United States]   \n",
       "8786             Kids' TV, Korean TV Shows, TV Comedies        [Unknown]   \n",
       "8787                            Comedies, Horror Movies  [United States]   \n",
       "8788                 Children & Family Movies, Comedies  [United States]   \n",
       "8789     Dramas, International Movies, Music & Musicals          [India]   \n",
       "\n",
       "     Countries_Combined  \n",
       "0         United States  \n",
       "1          South Africa  \n",
       "2               Unknown  \n",
       "3               Unknown  \n",
       "4                 India  \n",
       "...                 ...  \n",
       "8785      United States  \n",
       "8786            Unknown  \n",
       "8787      United States  \n",
       "8788      United States  \n",
       "8789              India  \n",
       "\n",
       "[8790 rows x 6 columns]"
      ]
     },
     "execution_count": 555,
     "metadata": {},
     "output_type": "execute_result"
    }
   ],
   "source": [
    "countries_clean"
   ]
  },
  {
   "cell_type": "code",
   "execution_count": 577,
   "metadata": {},
   "outputs": [
    {
     "data": {
      "text/plain": [
       "Country\n",
       "United States     3681\n",
       "India             1046\n",
       "Unknown            829\n",
       "United Kingdom     805\n",
       "Canada             445\n",
       "                  ... \n",
       "Ecuador              1\n",
       "Armenia              1\n",
       "Mongolia             1\n",
       "Bahamas              1\n",
       "Montenegro           1\n",
       "Name: count, Length: 124, dtype: int64"
      ]
     },
     "execution_count": 577,
     "metadata": {},
     "output_type": "execute_result"
    }
   ],
   "source": [
    "countries_clean['Country'].value_counts()"
   ]
  },
  {
   "cell_type": "code",
   "execution_count": 578,
   "metadata": {},
   "outputs": [
    {
     "data": {
      "text/plain": [
       "Countries_Combined\n",
       "United States                             2809\n",
       "India                                      972\n",
       "Unknown                                    829\n",
       "United Kingdom                             418\n",
       "Japan                                      243\n",
       "                                          ... \n",
       "Romania, Bulgaria, Hungary                   1\n",
       "Uruguay, Guatemala                           1\n",
       "France, Senegal, Belgium                     1\n",
       "Mexico, United States, Spain, Colombia       1\n",
       "United Arab Emirates, Jordan                 1\n",
       "Name: count, Length: 749, dtype: int64"
      ]
     },
     "execution_count": 578,
     "metadata": {},
     "output_type": "execute_result"
    }
   ],
   "source": [
    "countries_clean['Countries_Combined'].value_counts()"
   ]
  },
  {
   "cell_type": "markdown",
   "metadata": {},
   "source": [
    "## 7c - Create an CSV File for the countries_clean"
   ]
  },
  {
   "cell_type": "code",
   "execution_count": 586,
   "metadata": {},
   "outputs": [
    {
     "data": {
      "text/plain": [
       "Index(['Show_id', 'Type', 'Title', 'Director', 'Cast', 'Country', 'Date',\n",
       "       'Release_year', 'Classification', 'Duration', 'Category',\n",
       "       'Description'],\n",
       "      dtype='object')"
      ]
     },
     "execution_count": 586,
     "metadata": {},
     "output_type": "execute_result"
    }
   ],
   "source": [
    "movies.columns"
   ]
  },
  {
   "cell_type": "code",
   "execution_count": 583,
   "metadata": {},
   "outputs": [],
   "source": [
    "country_clean = pd.DataFrame(countries_clean)"
   ]
  },
  {
   "cell_type": "code",
   "execution_count": 584,
   "metadata": {},
   "outputs": [],
   "source": [
    "country_clean = country_clean.to_csv('country_clean.csv', index=False)"
   ]
  },
  {
   "cell_type": "markdown",
   "metadata": {},
   "source": [
    "## 8 - Sentiment Analysis of the Description Column"
   ]
  },
  {
   "cell_type": "markdown",
   "metadata": {},
   "source": [
    "Perform the sentiment analysis to try to find out the movies and series category by analysing the main words."
   ]
  },
  {
   "cell_type": "code",
   "execution_count": 520,
   "metadata": {},
   "outputs": [],
   "source": [
    "from nltk import word_tokenize\n",
    "#or from nltk.tokenize import RegexpTokenizer\n",
    "\n",
    "from nltk.stem import WordNetLemmatizer\n",
    "#or from nltk.stem.snowball import SnowballStemmer\n",
    "import string\n",
    "\n",
    "from nltk.corpus import stopwords\n",
    "import nltk\n"
   ]
  },
  {
   "cell_type": "code",
   "execution_count": 521,
   "metadata": {},
   "outputs": [],
   "source": [
    "movies_desc = movies['Description']"
   ]
  },
  {
   "cell_type": "code",
   "execution_count": 522,
   "metadata": {},
   "outputs": [
    {
     "data": {
      "text/plain": [
       "0       As her father nears the end of his life, filmm...\n",
       "1       After crossing paths at a party, a Cape Town t...\n",
       "2       To protect his family from a powerful drug lor...\n",
       "3       Feuds, flirtations and toilet talk go down amo...\n",
       "4       In a city of coaching centers known to train I...\n",
       "                              ...                        \n",
       "8802    A political cartoonist, a crime reporter and a...\n",
       "8803    While living alone in a spooky town, a young g...\n",
       "8804    Looking to survive in a world taken over by zo...\n",
       "8805    Dragged from civilian life, a former superhero...\n",
       "8806    A scrappy but poor boy worms his way into a ty...\n",
       "Name: Description, Length: 8790, dtype: object"
      ]
     },
     "execution_count": 522,
     "metadata": {},
     "output_type": "execute_result"
    }
   ],
   "source": [
    "movies_desc"
   ]
  },
  {
   "cell_type": "markdown",
   "metadata": {},
   "source": [
    "## 8a - Cleaning the Description Column"
   ]
  },
  {
   "cell_type": "markdown",
   "metadata": {},
   "source": [
    "Those are the steps performed in the function below:\n",
    "* Tokenize\n",
    "* Change to lowercase\n",
    "* Remove punctuation and white spaces\n",
    "* Remove personalized stopwords\n",
    "* Lemmatize"
   ]
  },
  {
   "cell_type": "code",
   "execution_count": 523,
   "metadata": {},
   "outputs": [],
   "source": [
    "from nltk.tokenize import word_tokenize\n",
    "from nltk.corpus import stopwords\n",
    "from nltk.stem import WordNetLemmatizer\n",
    "import re\n",
    "\n",
    "def preprocess_text(text):\n",
    "    # Tokenize the text\n",
    "    words = word_tokenize(text)\n",
    "    \n",
    "    # Convert to lower case\n",
    "    words = [word.lower() for word in words]\n",
    "    \n",
    "    # Remove punctuation\n",
    "    words = [re.sub(r'[^\\w\\s]', '', word.replace(\"'\", \"\")) for word in words]\n",
    "    # Remove empty or whitespace-only words\n",
    "    words = [word for word in words if word.strip()]\n",
    "    \n",
    "    # Remove stopwords\n",
    "    st_words = set(stopwords.words(\"english\"))\n",
    "    additional_stopwords = {\"movie\", \"film\", \"story\", \"plot\", \"character\",\"The\", \"When\", \"But\", \"must\", \"After\", \"home\", \"one\", \"two\", \"three\", \"four\",\"This\",} \n",
    "    words = [word for word in words if word not in st_words and word not in additional_stopwords]\n",
    "    \n",
    "    # Lemmatize the words\n",
    "    lemmatizer = WordNetLemmatizer()\n",
    "    words = [lemmatizer.lemmatize(word) for word in words]\n",
    "    \n",
    "    return words\n",
    "\n",
    "desc_clean = movies_desc.apply(preprocess_text)"
   ]
  },
  {
   "cell_type": "code",
   "execution_count": 524,
   "metadata": {},
   "outputs": [
    {
     "data": {
      "text/plain": [
       "0       [father, nears, end, life, filmmaker, kirsten,...\n",
       "1       [crossing, path, party, cape, town, teen, set,...\n",
       "2       [protect, family, powerful, drug, lord, skille...\n",
       "3       [feud, flirtation, toilet, talk, go, among, in...\n",
       "4       [city, coaching, center, known, train, india, ...\n",
       "                              ...                        \n",
       "8802    [political, cartoonist, crime, reporter, pair,...\n",
       "8803    [living, alone, spooky, town, young, girl, bef...\n",
       "8804    [looking, survive, world, taken, zombie, dorky...\n",
       "8805    [dragged, civilian, life, former, superhero, t...\n",
       "8806    [scrappy, poor, boy, worm, way, tycoon, dysfun...\n",
       "Name: Description, Length: 8790, dtype: object"
      ]
     },
     "execution_count": 524,
     "metadata": {},
     "output_type": "execute_result"
    }
   ],
   "source": [
    "desc_clean"
   ]
  },
  {
   "cell_type": "markdown",
   "metadata": {},
   "source": [
    "## 8b - Visualize the Words with WordCloud"
   ]
  },
  {
   "cell_type": "code",
   "execution_count": 525,
   "metadata": {},
   "outputs": [
    {
     "data": {
      "image/png": "[encoded data removed]",
      "text/plain": [
       "<Figure size 1000x500 with 1 Axes>"
      ]
     },
     "metadata": {},
     "output_type": "display_data"
    }
   ],
   "source": [
    "from wordcloud import WordCloud\n",
    "import matplotlib.pyplot as plt\n",
    "# Wordcloud expects a string of text\n",
    "text = ' '.join([str(word) for word in desc_clean])\n",
    "# Create a WordCloud object with custom parameters\n",
    "text = text.replace(\"'\", \"\") #delete the '\n",
    "wordcloud = WordCloud(width=1000, height=400,  # Specify the width and height\n",
    "                      max_words=100,          # Maximum number of words to display\n",
    "                      background_color='white',  # Background color\n",
    "                      colormap='Reds',     # Colormap for colors\n",
    "                      contour_color='black',  # Contour color\n",
    "                      contour_width=1,        # Contour width\n",
    "                      stopwords=None).generate(text)  # Stopwords to exclude\n",
    "# Display the WordCloud\n",
    "plt.figure(figsize=(10, 5))  # Adjust the figure size\n",
    "plt.imshow(wordcloud, interpolation='bilinear')\n",
    "plt.axis(\"off\")\n",
    "plt.show()"
   ]
  },
  {
   "cell_type": "code",
   "execution_count": 526,
   "metadata": {},
   "outputs": [],
   "source": [
    "#!pip install imageio"
   ]
  },
  {
   "cell_type": "code",
   "execution_count": 527,
   "metadata": {},
   "outputs": [
    {
     "name": "stderr",
     "output_type": "stream",
     "text": [
      "C:\\Users\\pmort\\AppData\\Local\\Temp\\ipykernel_22420\\4159342337.py:6: DeprecationWarning: Starting with ImageIO v3 the behavior of this function will switch to that of iio.v3.imread. To keep the current behavior (and make this warning disappear) use `import imageio.v2 as imageio` or call `imageio.v2.imread` directly.\n",
      "  mask = imageio.imread(\"netflix.jpg\")\n"
     ]
    },
    {
     "data": {
      "image/png": "[encoded data removed]",
      "text/plain": [
       "<Figure size 2000x1000 with 1 Axes>"
      ]
     },
     "metadata": {},
     "output_type": "display_data"
    }
   ],
   "source": [
    "from wordcloud import WordCloud, ImageColorGenerator\n",
    "import matplotlib.pyplot as plt\n",
    "import imageio\n",
    "text = ' '.join([str(word) for word in desc_clean])\n",
    "# Read the mask image\n",
    "mask = imageio.imread(\"netflix.jpg\")\n",
    "\n",
    "# Create a WordCloud object with custom parameters\n",
    "wordcloud = WordCloud(width=1000, height=400,  # Specify the width and height\n",
    "                      max_words=100,          # Increase the maximum number of words\n",
    "                      background_color='black',  # Background color\n",
    "                      colormap='Reds',     # Change the colormap\n",
    "                      contour_color='red',  # Contour color\n",
    "                      contour_width=1,        # Contour width\n",
    "                      mask=mask,              # Add the mask\n",
    "                      stopwords=None).generate(text)  # Stopwords to exclude\n",
    "\n",
    "# Create a color generator from the mask image\n",
    "color_gen = ImageColorGenerator(mask)\n",
    "\n",
    "# Apply the color generator to the word cloud\n",
    "wordcloud.recolor(color_func=color_gen)\n",
    "\n",
    "# Display the WordCloud\n",
    "plt.figure(figsize=(20, 10))  # Adjust the figure size\n",
    "plt.imshow(wordcloud, interpolation='bilinear')\n",
    "plt.axis(\"off\")\n",
    "plt.show()"
   ]
  },
  {
   "cell_type": "markdown",
   "metadata": {},
   "source": [
    "## 8c - Flattem the list, Count the Frequency and Create a Dataframe"
   ]
  },
  {
   "cell_type": "code",
   "execution_count": 528,
   "metadata": {},
   "outputs": [],
   "source": [
    "import matplotlib.pyplot as plt\n",
    "from collections import Counter\n",
    "import itertools\n",
    "import numpy as np\n",
    "import matplotlib.pyplot as plt\n",
    "import matplotlib.colors as mcolors"
   ]
  },
  {
   "cell_type": "code",
   "execution_count": 529,
   "metadata": {},
   "outputs": [],
   "source": [
    "# Flatten the list of tokens so that each individual element will become a row in the Dataframe\n",
    "flat_list = list(itertools.chain(*desc_clean))\n",
    "# Count the frequency of each word\n",
    "word_freq = Counter(flat_list)\n",
    "# Create a DataFrame from the word frequencies\n",
    "desc_final = pd.DataFrame.from_dict(word_freq, orient='index').reset_index()"
   ]
  },
  {
   "cell_type": "code",
   "execution_count": 530,
   "metadata": {},
   "outputs": [],
   "source": [
    "# Rename the columns\n",
    "desc_final.columns = ['Word', 'Frequency']\n"
   ]
  },
  {
   "cell_type": "code",
   "execution_count": 531,
   "metadata": {},
   "outputs": [
    {
     "data": {
      "text/html": [
       "<div>\n",
       "<style scoped>\n",
       "    .dataframe tbody tr th:only-of-type {\n",
       "        vertical-align: middle;\n",
       "    }\n",
       "\n",
       "    .dataframe tbody tr th {\n",
       "        vertical-align: top;\n",
       "    }\n",
       "\n",
       "    .dataframe thead th {\n",
       "        text-align: right;\n",
       "    }\n",
       "</style>\n",
       "<table border=\"1\" class=\"dataframe\">\n",
       "  <thead>\n",
       "    <tr style=\"text-align: right;\">\n",
       "      <th></th>\n",
       "      <th>Word</th>\n",
       "      <th>Frequency</th>\n",
       "    </tr>\n",
       "  </thead>\n",
       "  <tbody>\n",
       "    <tr>\n",
       "      <th>0</th>\n",
       "      <td>father</td>\n",
       "      <td>312</td>\n",
       "    </tr>\n",
       "    <tr>\n",
       "      <th>1</th>\n",
       "      <td>nears</td>\n",
       "      <td>6</td>\n",
       "    </tr>\n",
       "    <tr>\n",
       "      <th>2</th>\n",
       "      <td>end</td>\n",
       "      <td>99</td>\n",
       "    </tr>\n",
       "    <tr>\n",
       "      <th>3</th>\n",
       "      <td>life</td>\n",
       "      <td>1061</td>\n",
       "    </tr>\n",
       "    <tr>\n",
       "      <th>4</th>\n",
       "      <td>filmmaker</td>\n",
       "      <td>73</td>\n",
       "    </tr>\n",
       "    <tr>\n",
       "      <th>...</th>\n",
       "      <td>...</td>\n",
       "      <td>...</td>\n",
       "    </tr>\n",
       "    <tr>\n",
       "      <th>18264</th>\n",
       "      <td>kashaf</td>\n",
       "      <td>1</td>\n",
       "    </tr>\n",
       "    <tr>\n",
       "      <th>18265</th>\n",
       "      <td>zaroon</td>\n",
       "      <td>1</td>\n",
       "    </tr>\n",
       "    <tr>\n",
       "      <th>18266</th>\n",
       "      <td>sadist</td>\n",
       "      <td>1</td>\n",
       "    </tr>\n",
       "    <tr>\n",
       "      <th>18267</th>\n",
       "      <td>dorky</td>\n",
       "      <td>1</td>\n",
       "    </tr>\n",
       "    <tr>\n",
       "      <th>18268</th>\n",
       "      <td>roughneck</td>\n",
       "      <td>1</td>\n",
       "    </tr>\n",
       "  </tbody>\n",
       "</table>\n",
       "<p>18269 rows × 2 columns</p>\n",
       "</div>"
      ],
      "text/plain": [
       "            Word  Frequency\n",
       "0         father        312\n",
       "1          nears          6\n",
       "2            end         99\n",
       "3           life       1061\n",
       "4      filmmaker         73\n",
       "...          ...        ...\n",
       "18264     kashaf          1\n",
       "18265     zaroon          1\n",
       "18266     sadist          1\n",
       "18267      dorky          1\n",
       "18268  roughneck          1\n",
       "\n",
       "[18269 rows x 2 columns]"
      ]
     },
     "execution_count": 531,
     "metadata": {},
     "output_type": "execute_result"
    }
   ],
   "source": [
    "desc_final"
   ]
  },
  {
   "cell_type": "markdown",
   "metadata": {},
   "source": [
    "# 8c - Plot the 20 Most Common Words"
   ]
  },
  {
   "cell_type": "code",
   "execution_count": 532,
   "metadata": {},
   "outputs": [
    {
     "data": {
      "image/png": "[encoded data removed]",
      "text/plain": [
       "<Figure size 1000x500 with 1 Axes>"
      ]
     },
     "metadata": {},
     "output_type": "display_data"
    }
   ],
   "source": [
    "# Sort the DataFrame in descending order of frequency\n",
    "desc_final = desc_final.sort_values('Frequency', ascending=False)\n",
    "# Create a colormap of shades of red\n",
    "cmap = plt.get_cmap('Reds')\n",
    "colors = cmap(np.linspace(0, 1, 20))\n",
    "# Reverse the colors array so the most frequent word is in a darker color\n",
    "colors = colors[::-1]\n",
    "\n",
    "plt.figure(figsize=(10, 5))\n",
    "plt.barh(desc_final['Word'][:20], desc_final['Frequency'][:20], color=colors)\n",
    "plt.xlabel('Words')\n",
    "plt.ylabel('Frequency')\n",
    "plt.title('Word Frequency')\n",
    "plt.xticks(rotation=45)\n",
    "plt.gca().invert_yaxis()  # Invert the y-axis to have the highest frequency at the top\n",
    "plt.show()"
   ]
  },
  {
   "cell_type": "markdown",
   "metadata": {},
   "source": [
    "## 8d - Saving the Dataframe in the csv format "
   ]
  },
  {
   "cell_type": "code",
   "execution_count": 533,
   "metadata": {},
   "outputs": [],
   "source": [
    "desc_final = desc_final.to_csv('desc_final.csv', index=False)"
   ]
  },
  {
   "cell_type": "markdown",
   "metadata": {},
   "source": [
    "## 9 - Create a subset of the Category Column, Tokenize and Clean"
   ]
  },
  {
   "cell_type": "code",
   "execution_count": 541,
   "metadata": {},
   "outputs": [
    {
     "data": {
      "text/plain": [
       "Index(['Show_id', 'Type', 'Title', 'Director', 'Cast', 'Country', 'Date',\n",
       "       'Release_year', 'Classification', 'Duration', 'Category',\n",
       "       'Description'],\n",
       "      dtype='object')"
      ]
     },
     "execution_count": 541,
     "metadata": {},
     "output_type": "execute_result"
    }
   ],
   "source": [
    "movies.columns"
   ]
  },
  {
   "cell_type": "code",
   "execution_count": 542,
   "metadata": {},
   "outputs": [
    {
     "data": {
      "text/html": [
       "<div>\n",
       "<style scoped>\n",
       "    .dataframe tbody tr th:only-of-type {\n",
       "        vertical-align: middle;\n",
       "    }\n",
       "\n",
       "    .dataframe tbody tr th {\n",
       "        vertical-align: top;\n",
       "    }\n",
       "\n",
       "    .dataframe thead th {\n",
       "        text-align: right;\n",
       "    }\n",
       "</style>\n",
       "<table border=\"1\" class=\"dataframe\">\n",
       "  <thead>\n",
       "    <tr style=\"text-align: right;\">\n",
       "      <th></th>\n",
       "      <th>Country</th>\n",
       "      <th>Category</th>\n",
       "      <th>Date</th>\n",
       "    </tr>\n",
       "  </thead>\n",
       "  <tbody>\n",
       "    <tr>\n",
       "      <th>0</th>\n",
       "      <td>United States</td>\n",
       "      <td>Documentaries</td>\n",
       "      <td>2021-09-25</td>\n",
       "    </tr>\n",
       "    <tr>\n",
       "      <th>1</th>\n",
       "      <td>South Africa</td>\n",
       "      <td>International TV Shows, TV Dramas, TV Mysteries</td>\n",
       "      <td>2021-09-24</td>\n",
       "    </tr>\n",
       "    <tr>\n",
       "      <th>2</th>\n",
       "      <td>Unknown</td>\n",
       "      <td>Crime TV Shows, International TV Shows, TV Act...</td>\n",
       "      <td>2021-09-24</td>\n",
       "    </tr>\n",
       "    <tr>\n",
       "      <th>3</th>\n",
       "      <td>Unknown</td>\n",
       "      <td>Docuseries, Reality TV</td>\n",
       "      <td>2021-09-24</td>\n",
       "    </tr>\n",
       "    <tr>\n",
       "      <th>4</th>\n",
       "      <td>India</td>\n",
       "      <td>International TV Shows, Romantic TV Shows, TV ...</td>\n",
       "      <td>2021-09-24</td>\n",
       "    </tr>\n",
       "    <tr>\n",
       "      <th>...</th>\n",
       "      <td>...</td>\n",
       "      <td>...</td>\n",
       "      <td>...</td>\n",
       "    </tr>\n",
       "    <tr>\n",
       "      <th>8802</th>\n",
       "      <td>United States</td>\n",
       "      <td>Cult Movies, Dramas, Thrillers</td>\n",
       "      <td>2019-11-20</td>\n",
       "    </tr>\n",
       "    <tr>\n",
       "      <th>8803</th>\n",
       "      <td>Unknown</td>\n",
       "      <td>Kids' TV, Korean TV Shows, TV Comedies</td>\n",
       "      <td>2019-07-01</td>\n",
       "    </tr>\n",
       "    <tr>\n",
       "      <th>8804</th>\n",
       "      <td>United States</td>\n",
       "      <td>Comedies, Horror Movies</td>\n",
       "      <td>2019-11-01</td>\n",
       "    </tr>\n",
       "    <tr>\n",
       "      <th>8805</th>\n",
       "      <td>United States</td>\n",
       "      <td>Children &amp; Family Movies, Comedies</td>\n",
       "      <td>2020-01-11</td>\n",
       "    </tr>\n",
       "    <tr>\n",
       "      <th>8806</th>\n",
       "      <td>India</td>\n",
       "      <td>Dramas, International Movies, Music &amp; Musicals</td>\n",
       "      <td>2019-03-02</td>\n",
       "    </tr>\n",
       "  </tbody>\n",
       "</table>\n",
       "<p>8790 rows × 3 columns</p>\n",
       "</div>"
      ],
      "text/plain": [
       "            Country                                           Category  \\\n",
       "0     United States                                      Documentaries   \n",
       "1      South Africa    International TV Shows, TV Dramas, TV Mysteries   \n",
       "2           Unknown  Crime TV Shows, International TV Shows, TV Act...   \n",
       "3           Unknown                             Docuseries, Reality TV   \n",
       "4             India  International TV Shows, Romantic TV Shows, TV ...   \n",
       "...             ...                                                ...   \n",
       "8802  United States                     Cult Movies, Dramas, Thrillers   \n",
       "8803        Unknown             Kids' TV, Korean TV Shows, TV Comedies   \n",
       "8804  United States                            Comedies, Horror Movies   \n",
       "8805  United States                 Children & Family Movies, Comedies   \n",
       "8806          India     Dramas, International Movies, Music & Musicals   \n",
       "\n",
       "           Date  \n",
       "0    2021-09-25  \n",
       "1    2021-09-24  \n",
       "2    2021-09-24  \n",
       "3    2021-09-24  \n",
       "4    2021-09-24  \n",
       "...         ...  \n",
       "8802 2019-11-20  \n",
       "8803 2019-07-01  \n",
       "8804 2019-11-01  \n",
       "8805 2020-01-11  \n",
       "8806 2019-03-02  \n",
       "\n",
       "[8790 rows x 3 columns]"
      ]
     },
     "execution_count": 542,
     "metadata": {},
     "output_type": "execute_result"
    }
   ],
   "source": [
    "movies_cat = movies[['Country', 'Category', 'Date']]\n",
    "movies_cat"
   ]
  },
  {
   "cell_type": "code",
   "execution_count": 543,
   "metadata": {},
   "outputs": [
    {
     "name": "stderr",
     "output_type": "stream",
     "text": [
      "C:\\Users\\pmort\\AppData\\Local\\Temp\\ipykernel_22420\\2692172624.py:2: SettingWithCopyWarning: \n",
      "A value is trying to be set on a copy of a slice from a DataFrame.\n",
      "Try using .loc[row_indexer,col_indexer] = value instead\n",
      "\n",
      "See the caveats in the documentation: https://pandas.pydata.org/pandas-docs/stable/user_guide/indexing.html#returning-a-view-versus-a-copy\n",
      "  movies_cat['Date'] = pd.to_datetime(movies_cat['Date'])\n",
      "C:\\Users\\pmort\\AppData\\Local\\Temp\\ipykernel_22420\\2692172624.py:5: SettingWithCopyWarning: \n",
      "A value is trying to be set on a copy of a slice from a DataFrame.\n",
      "Try using .loc[row_indexer,col_indexer] = value instead\n",
      "\n",
      "See the caveats in the documentation: https://pandas.pydata.org/pandas-docs/stable/user_guide/indexing.html#returning-a-view-versus-a-copy\n",
      "  movies_cat['Year'] = movies_cat['Date'].dt.year\n"
     ]
    },
    {
     "data": {
      "text/html": [
       "<div>\n",
       "<style scoped>\n",
       "    .dataframe tbody tr th:only-of-type {\n",
       "        vertical-align: middle;\n",
       "    }\n",
       "\n",
       "    .dataframe tbody tr th {\n",
       "        vertical-align: top;\n",
       "    }\n",
       "\n",
       "    .dataframe thead th {\n",
       "        text-align: right;\n",
       "    }\n",
       "</style>\n",
       "<table border=\"1\" class=\"dataframe\">\n",
       "  <thead>\n",
       "    <tr style=\"text-align: right;\">\n",
       "      <th></th>\n",
       "      <th>Country</th>\n",
       "      <th>Category</th>\n",
       "      <th>Date</th>\n",
       "      <th>Year</th>\n",
       "    </tr>\n",
       "  </thead>\n",
       "  <tbody>\n",
       "    <tr>\n",
       "      <th>0</th>\n",
       "      <td>United States</td>\n",
       "      <td>Documentaries</td>\n",
       "      <td>2021-09-25</td>\n",
       "      <td>2021</td>\n",
       "    </tr>\n",
       "    <tr>\n",
       "      <th>1</th>\n",
       "      <td>South Africa</td>\n",
       "      <td>International TV Shows, TV Dramas, TV Mysteries</td>\n",
       "      <td>2021-09-24</td>\n",
       "      <td>2021</td>\n",
       "    </tr>\n",
       "    <tr>\n",
       "      <th>2</th>\n",
       "      <td>Unknown</td>\n",
       "      <td>Crime TV Shows, International TV Shows, TV Act...</td>\n",
       "      <td>2021-09-24</td>\n",
       "      <td>2021</td>\n",
       "    </tr>\n",
       "    <tr>\n",
       "      <th>3</th>\n",
       "      <td>Unknown</td>\n",
       "      <td>Docuseries, Reality TV</td>\n",
       "      <td>2021-09-24</td>\n",
       "      <td>2021</td>\n",
       "    </tr>\n",
       "    <tr>\n",
       "      <th>4</th>\n",
       "      <td>India</td>\n",
       "      <td>International TV Shows, Romantic TV Shows, TV ...</td>\n",
       "      <td>2021-09-24</td>\n",
       "      <td>2021</td>\n",
       "    </tr>\n",
       "    <tr>\n",
       "      <th>...</th>\n",
       "      <td>...</td>\n",
       "      <td>...</td>\n",
       "      <td>...</td>\n",
       "      <td>...</td>\n",
       "    </tr>\n",
       "    <tr>\n",
       "      <th>8802</th>\n",
       "      <td>United States</td>\n",
       "      <td>Cult Movies, Dramas, Thrillers</td>\n",
       "      <td>2019-11-20</td>\n",
       "      <td>2019</td>\n",
       "    </tr>\n",
       "    <tr>\n",
       "      <th>8803</th>\n",
       "      <td>Unknown</td>\n",
       "      <td>Kids' TV, Korean TV Shows, TV Comedies</td>\n",
       "      <td>2019-07-01</td>\n",
       "      <td>2019</td>\n",
       "    </tr>\n",
       "    <tr>\n",
       "      <th>8804</th>\n",
       "      <td>United States</td>\n",
       "      <td>Comedies, Horror Movies</td>\n",
       "      <td>2019-11-01</td>\n",
       "      <td>2019</td>\n",
       "    </tr>\n",
       "    <tr>\n",
       "      <th>8805</th>\n",
       "      <td>United States</td>\n",
       "      <td>Children &amp; Family Movies, Comedies</td>\n",
       "      <td>2020-01-11</td>\n",
       "      <td>2020</td>\n",
       "    </tr>\n",
       "    <tr>\n",
       "      <th>8806</th>\n",
       "      <td>India</td>\n",
       "      <td>Dramas, International Movies, Music &amp; Musicals</td>\n",
       "      <td>2019-03-02</td>\n",
       "      <td>2019</td>\n",
       "    </tr>\n",
       "  </tbody>\n",
       "</table>\n",
       "<p>8790 rows × 4 columns</p>\n",
       "</div>"
      ],
      "text/plain": [
       "            Country                                           Category  \\\n",
       "0     United States                                      Documentaries   \n",
       "1      South Africa    International TV Shows, TV Dramas, TV Mysteries   \n",
       "2           Unknown  Crime TV Shows, International TV Shows, TV Act...   \n",
       "3           Unknown                             Docuseries, Reality TV   \n",
       "4             India  International TV Shows, Romantic TV Shows, TV ...   \n",
       "...             ...                                                ...   \n",
       "8802  United States                     Cult Movies, Dramas, Thrillers   \n",
       "8803        Unknown             Kids' TV, Korean TV Shows, TV Comedies   \n",
       "8804  United States                            Comedies, Horror Movies   \n",
       "8805  United States                 Children & Family Movies, Comedies   \n",
       "8806          India     Dramas, International Movies, Music & Musicals   \n",
       "\n",
       "           Date  Year  \n",
       "0    2021-09-25  2021  \n",
       "1    2021-09-24  2021  \n",
       "2    2021-09-24  2021  \n",
       "3    2021-09-24  2021  \n",
       "4    2021-09-24  2021  \n",
       "...         ...   ...  \n",
       "8802 2019-11-20  2019  \n",
       "8803 2019-07-01  2019  \n",
       "8804 2019-11-01  2019  \n",
       "8805 2020-01-11  2020  \n",
       "8806 2019-03-02  2019  \n",
       "\n",
       "[8790 rows x 4 columns]"
      ]
     },
     "execution_count": 543,
     "metadata": {},
     "output_type": "execute_result"
    }
   ],
   "source": [
    "# Convert 'Date' column to datetime\n",
    "movies_cat['Date'] = pd.to_datetime(movies_cat['Date'])\n",
    "\n",
    "# Extract year from 'Date' column\n",
    "movies_cat['Year'] = movies_cat['Date'].dt.year\n",
    "\n",
    "# Print the DataFrame\n",
    "movies_cat"
   ]
  },
  {
   "cell_type": "markdown",
   "metadata": {},
   "source": [
    "## 9a - One-hot encode of the Category Column"
   ]
  },
  {
   "cell_type": "code",
   "execution_count": 544,
   "metadata": {},
   "outputs": [
    {
     "name": "stderr",
     "output_type": "stream",
     "text": [
      "C:\\Users\\pmort\\AppData\\Local\\Temp\\ipykernel_22420\\734567600.py:2: SettingWithCopyWarning: \n",
      "A value is trying to be set on a copy of a slice from a DataFrame.\n",
      "Try using .loc[row_indexer,col_indexer] = value instead\n",
      "\n",
      "See the caveats in the documentation: https://pandas.pydata.org/pandas-docs/stable/user_guide/indexing.html#returning-a-view-versus-a-copy\n",
      "  movies_cat['Category'] = movies_cat['Category'].str.split(',')\n"
     ]
    },
    {
     "data": {
      "text/html": [
       "<div>\n",
       "<style scoped>\n",
       "    .dataframe tbody tr th:only-of-type {\n",
       "        vertical-align: middle;\n",
       "    }\n",
       "\n",
       "    .dataframe tbody tr th {\n",
       "        vertical-align: top;\n",
       "    }\n",
       "\n",
       "    .dataframe thead th {\n",
       "        text-align: right;\n",
       "    }\n",
       "</style>\n",
       "<table border=\"1\" class=\"dataframe\">\n",
       "  <thead>\n",
       "    <tr style=\"text-align: right;\">\n",
       "      <th></th>\n",
       "      <th>Country</th>\n",
       "      <th>Date</th>\n",
       "      <th>Year</th>\n",
       "      <th>Category_ Anime Features</th>\n",
       "      <th>Category_ Children &amp; Family Movies</th>\n",
       "      <th>Category_ Classic &amp; Cult TV</th>\n",
       "      <th>Category_ Classic Movies</th>\n",
       "      <th>Category_ Comedies</th>\n",
       "      <th>Category_ Crime TV Shows</th>\n",
       "      <th>Category_ Cult Movies</th>\n",
       "      <th>...</th>\n",
       "      <th>Category_Sports Movies</th>\n",
       "      <th>Category_Stand-Up Comedy</th>\n",
       "      <th>Category_Stand-Up Comedy &amp; Talk Shows</th>\n",
       "      <th>Category_TV Action &amp; Adventure</th>\n",
       "      <th>Category_TV Comedies</th>\n",
       "      <th>Category_TV Dramas</th>\n",
       "      <th>Category_TV Horror</th>\n",
       "      <th>Category_TV Sci-Fi &amp; Fantasy</th>\n",
       "      <th>Category_TV Shows</th>\n",
       "      <th>Category_Thrillers</th>\n",
       "    </tr>\n",
       "  </thead>\n",
       "  <tbody>\n",
       "    <tr>\n",
       "      <th>0</th>\n",
       "      <td>United States</td>\n",
       "      <td>2021-09-25</td>\n",
       "      <td>2021</td>\n",
       "      <td>0</td>\n",
       "      <td>0</td>\n",
       "      <td>0</td>\n",
       "      <td>0</td>\n",
       "      <td>0</td>\n",
       "      <td>0</td>\n",
       "      <td>0</td>\n",
       "      <td>...</td>\n",
       "      <td>0</td>\n",
       "      <td>0</td>\n",
       "      <td>0</td>\n",
       "      <td>0</td>\n",
       "      <td>0</td>\n",
       "      <td>0</td>\n",
       "      <td>0</td>\n",
       "      <td>0</td>\n",
       "      <td>0</td>\n",
       "      <td>0</td>\n",
       "    </tr>\n",
       "    <tr>\n",
       "      <th>1</th>\n",
       "      <td>South Africa</td>\n",
       "      <td>2021-09-24</td>\n",
       "      <td>2021</td>\n",
       "      <td>0</td>\n",
       "      <td>0</td>\n",
       "      <td>0</td>\n",
       "      <td>0</td>\n",
       "      <td>0</td>\n",
       "      <td>0</td>\n",
       "      <td>0</td>\n",
       "      <td>...</td>\n",
       "      <td>0</td>\n",
       "      <td>0</td>\n",
       "      <td>0</td>\n",
       "      <td>0</td>\n",
       "      <td>0</td>\n",
       "      <td>0</td>\n",
       "      <td>0</td>\n",
       "      <td>0</td>\n",
       "      <td>0</td>\n",
       "      <td>0</td>\n",
       "    </tr>\n",
       "    <tr>\n",
       "      <th>2</th>\n",
       "      <td>South Africa</td>\n",
       "      <td>2021-09-24</td>\n",
       "      <td>2021</td>\n",
       "      <td>0</td>\n",
       "      <td>0</td>\n",
       "      <td>0</td>\n",
       "      <td>0</td>\n",
       "      <td>0</td>\n",
       "      <td>0</td>\n",
       "      <td>0</td>\n",
       "      <td>...</td>\n",
       "      <td>0</td>\n",
       "      <td>0</td>\n",
       "      <td>0</td>\n",
       "      <td>0</td>\n",
       "      <td>0</td>\n",
       "      <td>0</td>\n",
       "      <td>0</td>\n",
       "      <td>0</td>\n",
       "      <td>0</td>\n",
       "      <td>0</td>\n",
       "    </tr>\n",
       "    <tr>\n",
       "      <th>3</th>\n",
       "      <td>South Africa</td>\n",
       "      <td>2021-09-24</td>\n",
       "      <td>2021</td>\n",
       "      <td>0</td>\n",
       "      <td>0</td>\n",
       "      <td>0</td>\n",
       "      <td>0</td>\n",
       "      <td>0</td>\n",
       "      <td>0</td>\n",
       "      <td>0</td>\n",
       "      <td>...</td>\n",
       "      <td>0</td>\n",
       "      <td>0</td>\n",
       "      <td>0</td>\n",
       "      <td>0</td>\n",
       "      <td>0</td>\n",
       "      <td>0</td>\n",
       "      <td>0</td>\n",
       "      <td>0</td>\n",
       "      <td>0</td>\n",
       "      <td>0</td>\n",
       "    </tr>\n",
       "    <tr>\n",
       "      <th>4</th>\n",
       "      <td>Unknown</td>\n",
       "      <td>2021-09-24</td>\n",
       "      <td>2021</td>\n",
       "      <td>0</td>\n",
       "      <td>0</td>\n",
       "      <td>0</td>\n",
       "      <td>0</td>\n",
       "      <td>0</td>\n",
       "      <td>0</td>\n",
       "      <td>0</td>\n",
       "      <td>...</td>\n",
       "      <td>0</td>\n",
       "      <td>0</td>\n",
       "      <td>0</td>\n",
       "      <td>0</td>\n",
       "      <td>0</td>\n",
       "      <td>0</td>\n",
       "      <td>0</td>\n",
       "      <td>0</td>\n",
       "      <td>0</td>\n",
       "      <td>0</td>\n",
       "    </tr>\n",
       "    <tr>\n",
       "      <th>...</th>\n",
       "      <td>...</td>\n",
       "      <td>...</td>\n",
       "      <td>...</td>\n",
       "      <td>...</td>\n",
       "      <td>...</td>\n",
       "      <td>...</td>\n",
       "      <td>...</td>\n",
       "      <td>...</td>\n",
       "      <td>...</td>\n",
       "      <td>...</td>\n",
       "      <td>...</td>\n",
       "      <td>...</td>\n",
       "      <td>...</td>\n",
       "      <td>...</td>\n",
       "      <td>...</td>\n",
       "      <td>...</td>\n",
       "      <td>...</td>\n",
       "      <td>...</td>\n",
       "      <td>...</td>\n",
       "      <td>...</td>\n",
       "      <td>...</td>\n",
       "    </tr>\n",
       "    <tr>\n",
       "      <th>19289</th>\n",
       "      <td>United States</td>\n",
       "      <td>2020-01-11</td>\n",
       "      <td>2020</td>\n",
       "      <td>0</td>\n",
       "      <td>0</td>\n",
       "      <td>0</td>\n",
       "      <td>0</td>\n",
       "      <td>0</td>\n",
       "      <td>0</td>\n",
       "      <td>0</td>\n",
       "      <td>...</td>\n",
       "      <td>0</td>\n",
       "      <td>0</td>\n",
       "      <td>0</td>\n",
       "      <td>0</td>\n",
       "      <td>0</td>\n",
       "      <td>0</td>\n",
       "      <td>0</td>\n",
       "      <td>0</td>\n",
       "      <td>0</td>\n",
       "      <td>0</td>\n",
       "    </tr>\n",
       "    <tr>\n",
       "      <th>19290</th>\n",
       "      <td>United States</td>\n",
       "      <td>2020-01-11</td>\n",
       "      <td>2020</td>\n",
       "      <td>0</td>\n",
       "      <td>0</td>\n",
       "      <td>0</td>\n",
       "      <td>0</td>\n",
       "      <td>1</td>\n",
       "      <td>0</td>\n",
       "      <td>0</td>\n",
       "      <td>...</td>\n",
       "      <td>0</td>\n",
       "      <td>0</td>\n",
       "      <td>0</td>\n",
       "      <td>0</td>\n",
       "      <td>0</td>\n",
       "      <td>0</td>\n",
       "      <td>0</td>\n",
       "      <td>0</td>\n",
       "      <td>0</td>\n",
       "      <td>0</td>\n",
       "    </tr>\n",
       "    <tr>\n",
       "      <th>19291</th>\n",
       "      <td>India</td>\n",
       "      <td>2019-03-02</td>\n",
       "      <td>2019</td>\n",
       "      <td>0</td>\n",
       "      <td>0</td>\n",
       "      <td>0</td>\n",
       "      <td>0</td>\n",
       "      <td>0</td>\n",
       "      <td>0</td>\n",
       "      <td>0</td>\n",
       "      <td>...</td>\n",
       "      <td>0</td>\n",
       "      <td>0</td>\n",
       "      <td>0</td>\n",
       "      <td>0</td>\n",
       "      <td>0</td>\n",
       "      <td>0</td>\n",
       "      <td>0</td>\n",
       "      <td>0</td>\n",
       "      <td>0</td>\n",
       "      <td>0</td>\n",
       "    </tr>\n",
       "    <tr>\n",
       "      <th>19292</th>\n",
       "      <td>India</td>\n",
       "      <td>2019-03-02</td>\n",
       "      <td>2019</td>\n",
       "      <td>0</td>\n",
       "      <td>0</td>\n",
       "      <td>0</td>\n",
       "      <td>0</td>\n",
       "      <td>0</td>\n",
       "      <td>0</td>\n",
       "      <td>0</td>\n",
       "      <td>...</td>\n",
       "      <td>0</td>\n",
       "      <td>0</td>\n",
       "      <td>0</td>\n",
       "      <td>0</td>\n",
       "      <td>0</td>\n",
       "      <td>0</td>\n",
       "      <td>0</td>\n",
       "      <td>0</td>\n",
       "      <td>0</td>\n",
       "      <td>0</td>\n",
       "    </tr>\n",
       "    <tr>\n",
       "      <th>19293</th>\n",
       "      <td>India</td>\n",
       "      <td>2019-03-02</td>\n",
       "      <td>2019</td>\n",
       "      <td>0</td>\n",
       "      <td>0</td>\n",
       "      <td>0</td>\n",
       "      <td>0</td>\n",
       "      <td>0</td>\n",
       "      <td>0</td>\n",
       "      <td>0</td>\n",
       "      <td>...</td>\n",
       "      <td>0</td>\n",
       "      <td>0</td>\n",
       "      <td>0</td>\n",
       "      <td>0</td>\n",
       "      <td>0</td>\n",
       "      <td>0</td>\n",
       "      <td>0</td>\n",
       "      <td>0</td>\n",
       "      <td>0</td>\n",
       "      <td>0</td>\n",
       "    </tr>\n",
       "  </tbody>\n",
       "</table>\n",
       "<p>19294 rows × 76 columns</p>\n",
       "</div>"
      ],
      "text/plain": [
       "             Country       Date  Year  Category_ Anime Features  \\\n",
       "0      United States 2021-09-25  2021                         0   \n",
       "1       South Africa 2021-09-24  2021                         0   \n",
       "2       South Africa 2021-09-24  2021                         0   \n",
       "3       South Africa 2021-09-24  2021                         0   \n",
       "4            Unknown 2021-09-24  2021                         0   \n",
       "...              ...        ...   ...                       ...   \n",
       "19289  United States 2020-01-11  2020                         0   \n",
       "19290  United States 2020-01-11  2020                         0   \n",
       "19291          India 2019-03-02  2019                         0   \n",
       "19292          India 2019-03-02  2019                         0   \n",
       "19293          India 2019-03-02  2019                         0   \n",
       "\n",
       "       Category_ Children & Family Movies  Category_ Classic & Cult TV  \\\n",
       "0                                       0                            0   \n",
       "1                                       0                            0   \n",
       "2                                       0                            0   \n",
       "3                                       0                            0   \n",
       "4                                       0                            0   \n",
       "...                                   ...                          ...   \n",
       "19289                                   0                            0   \n",
       "19290                                   0                            0   \n",
       "19291                                   0                            0   \n",
       "19292                                   0                            0   \n",
       "19293                                   0                            0   \n",
       "\n",
       "       Category_ Classic Movies  Category_ Comedies  Category_ Crime TV Shows  \\\n",
       "0                             0                   0                         0   \n",
       "1                             0                   0                         0   \n",
       "2                             0                   0                         0   \n",
       "3                             0                   0                         0   \n",
       "4                             0                   0                         0   \n",
       "...                         ...                 ...                       ...   \n",
       "19289                         0                   0                         0   \n",
       "19290                         0                   1                         0   \n",
       "19291                         0                   0                         0   \n",
       "19292                         0                   0                         0   \n",
       "19293                         0                   0                         0   \n",
       "\n",
       "       Category_ Cult Movies  ...  Category_Sports Movies  \\\n",
       "0                          0  ...                       0   \n",
       "1                          0  ...                       0   \n",
       "2                          0  ...                       0   \n",
       "3                          0  ...                       0   \n",
       "4                          0  ...                       0   \n",
       "...                      ...  ...                     ...   \n",
       "19289                      0  ...                       0   \n",
       "19290                      0  ...                       0   \n",
       "19291                      0  ...                       0   \n",
       "19292                      0  ...                       0   \n",
       "19293                      0  ...                       0   \n",
       "\n",
       "       Category_Stand-Up Comedy  Category_Stand-Up Comedy & Talk Shows  \\\n",
       "0                             0                                      0   \n",
       "1                             0                                      0   \n",
       "2                             0                                      0   \n",
       "3                             0                                      0   \n",
       "4                             0                                      0   \n",
       "...                         ...                                    ...   \n",
       "19289                         0                                      0   \n",
       "19290                         0                                      0   \n",
       "19291                         0                                      0   \n",
       "19292                         0                                      0   \n",
       "19293                         0                                      0   \n",
       "\n",
       "       Category_TV Action & Adventure  Category_TV Comedies  \\\n",
       "0                                   0                     0   \n",
       "1                                   0                     0   \n",
       "2                                   0                     0   \n",
       "3                                   0                     0   \n",
       "4                                   0                     0   \n",
       "...                               ...                   ...   \n",
       "19289                               0                     0   \n",
       "19290                               0                     0   \n",
       "19291                               0                     0   \n",
       "19292                               0                     0   \n",
       "19293                               0                     0   \n",
       "\n",
       "       Category_TV Dramas  Category_TV Horror  Category_TV Sci-Fi & Fantasy  \\\n",
       "0                       0                   0                             0   \n",
       "1                       0                   0                             0   \n",
       "2                       0                   0                             0   \n",
       "3                       0                   0                             0   \n",
       "4                       0                   0                             0   \n",
       "...                   ...                 ...                           ...   \n",
       "19289                   0                   0                             0   \n",
       "19290                   0                   0                             0   \n",
       "19291                   0                   0                             0   \n",
       "19292                   0                   0                             0   \n",
       "19293                   0                   0                             0   \n",
       "\n",
       "       Category_TV Shows  Category_Thrillers  \n",
       "0                      0                   0  \n",
       "1                      0                   0  \n",
       "2                      0                   0  \n",
       "3                      0                   0  \n",
       "4                      0                   0  \n",
       "...                  ...                 ...  \n",
       "19289                  0                   0  \n",
       "19290                  0                   0  \n",
       "19291                  0                   0  \n",
       "19292                  0                   0  \n",
       "19293                  0                   0  \n",
       "\n",
       "[19294 rows x 76 columns]"
      ]
     },
     "execution_count": 544,
     "metadata": {},
     "output_type": "execute_result"
    }
   ],
   "source": [
    "#split the listed_in columns\n",
    "movies_cat['Category'] = movies_cat['Category'].str.split(',')\n",
    "movies_cat = movies_cat.explode('Category').reset_index(drop=True)\n",
    "movies_cat = pd.get_dummies(movies_cat, columns=['Category'], dtype=int)\n",
    "movies_cat"
   ]
  },
  {
   "cell_type": "code",
   "execution_count": 546,
   "metadata": {},
   "outputs": [
    {
     "data": {
      "text/plain": [
       "Series([], Name: count, dtype: int64)"
      ]
     },
     "execution_count": 546,
     "metadata": {},
     "output_type": "execute_result"
    }
   ],
   "source": [
    "\n",
    "# Group by 'Year', 'Country', and each category, and sum over the rows\n",
    "grouped = movies_cat.groupby(['Year', 'Country'])[movies_cat.columns[3:]].sum().reset_index()\n",
    "\n",
    "# Initialize an empty DataFrame to store the results\n",
    "top_countries = pd.DataFrame()\n",
    "\n",
    "# For each category, find the top 10 countries per year\n",
    "# For each category, find the top 10 countries per year\n",
    "for category in grouped.columns[2:]:\n",
    "    top = grouped.groupby(['Year'])[category].nlargest(10).reset_index()\n",
    "    top['Category'] = category\n",
    "    top_countries = pd.concat([top_countries, top])\n",
    "\n",
    "# Print the result\n",
    "top_countries"
   ]
  },
  {
   "cell_type": "markdown",
   "metadata": {},
   "source": [
    "## 9b - Tokenize, Lowercase, Delete Stopwords and Lemmatize the Category Column"
   ]
  },
  {
   "cell_type": "code",
   "execution_count": 233,
   "metadata": {},
   "outputs": [],
   "source": [
    "cat_list = [' Anime Features',\n",
    "       ' Children & Family Movies', ' Classic & Cult ', ' Classic Movies',\n",
    "       ' Comedies', ' Crime  Shows', ' Cult Movies', ' Documentaries',\n",
    "       ' Docuseries', ' Dramas', ' Faith & Spirituality', ' Horror Movies',\n",
    "       ' Independent Movies', ' International Movies', ' International  Shows',\n",
    "       ' Kids' , ' Korean Shows', 'LGBTQ Movies', ' Music & Musicals',\n",
    "       ' Reality ', ' Romantic Movies', ' Romantic  Shows',\n",
    "       ' Sci-Fi & Fantasy', ' Science & Nature ', ' Spanish-Language  Shows',\n",
    "       ' Sports Movies', ' Stand-Up Comedy', ' Stand-Up Comedy & Talk Shows',\n",
    "       '  Action & Adventure', '  Comedies', '  Dramas', '  Horror',\n",
    "       '  Mysteries', '  Sci-Fi & Fantasy', '  Thrillers', ' Teen  Shows',\n",
    "       ' Thrillers', 'Action & Adventure', 'Anime Features', 'Anime Series',\n",
    "       'British  Shows', 'Children & Family Movies', 'Classic & Cult ',\n",
    "       'Classic Movies', 'Comedies', 'Crime  Shows', 'Cult Movies',\n",
    "       'Documentaries', 'Docuseries', 'Dramas', 'Horror Movies',\n",
    "       'Independent Movies', 'International Movies', 'International  Shows',\n",
    "       'Kids' , 'LGBTQ Movies', 'Movies', 'Music & Musicals', 'Reality',\n",
    "       'Romantic Movies', 'Romantic  Shows', 'Sci-Fi & Fantasy',\n",
    "       'Spanish-Language  Shows', 'Sports Movies', 'Stand-Up Comedy',\n",
    "       'Stand-Up Comedy & Talk Shows', ' Action & Adventure', ' Comedies',\n",
    "       ' Dramas', ' Horror', ' Sci-Fi & Fantasy', ' Shows', 'Thrillers']"
   ]
  },
  {
   "cell_type": "code",
   "execution_count": 235,
   "metadata": {},
   "outputs": [],
   "source": [
    "from nltk.tokenize import word_tokenize\n",
    "from nltk.corpus import stopwords\n",
    "from nltk.stem import WordNetLemmatizer\n",
    "import re\n",
    "\n",
    "def preprocess_cat(text):\n",
    "    # Tokenize the text\n",
    "    words = word_tokenize(text)\n",
    "        \n",
    "    # Convert to lower case\n",
    "    words = [word.lower() for word in words]\n",
    "    words = [word for word in words if word.strip()]\n",
    "    \n",
    "    # Remove stopwords\n",
    "    st_words = set(stopwords.words(\"english\"))\n",
    "    additional_stopwords = {'movies', '&', 'shows', 'series'}\n",
    "    words = [word for word in words if word not in st_words and word not in additional_stopwords]\n",
    "    \n",
    "    # Lemmatize the words\n",
    "    lemmatizer = WordNetLemmatizer()\n",
    "    words = [lemmatizer.lemmatize(word) for word in words]\n",
    "    \n",
    "    return words\n",
    "\n"
   ]
  },
  {
   "cell_type": "markdown",
   "metadata": {},
   "source": [
    "## 9c - Find Unique Values"
   ]
  },
  {
   "cell_type": "code",
   "execution_count": 236,
   "metadata": {},
   "outputs": [],
   "source": [
    "cat_unique = set()\n",
    "cat_clean = []\n",
    "for curr_cat in cat_list:\n",
    "    temp_clean = preprocess_cat(curr_cat)\n",
    "    cat_clean.append(temp_clean)\n",
    "    for cat in temp_clean:\n",
    "        cat_unique.add(cat)"
   ]
  },
  {
   "cell_type": "code",
   "execution_count": 247,
   "metadata": {},
   "outputs": [
    {
     "data": {
      "text/plain": [
       "{'action',\n",
       " 'adventure',\n",
       " 'anime',\n",
       " 'british',\n",
       " 'child',\n",
       " 'classic',\n",
       " 'comedy',\n",
       " 'crime',\n",
       " 'cult',\n",
       " 'documentary',\n",
       " 'docuseries',\n",
       " 'drama',\n",
       " 'faith',\n",
       " 'family',\n",
       " 'fantasy',\n",
       " 'feature',\n",
       " 'horror',\n",
       " 'independent',\n",
       " 'international',\n",
       " 'kid',\n",
       " 'korean',\n",
       " 'lgbtq',\n",
       " 'music',\n",
       " 'musical',\n",
       " 'mystery',\n",
       " 'nature',\n",
       " 'reality',\n",
       " 'romantic',\n",
       " 'sci-fi',\n",
       " 'science',\n",
       " 'spanish-language',\n",
       " 'spirituality',\n",
       " 'sport',\n",
       " 'stand-up',\n",
       " 'talk',\n",
       " 'teen',\n",
       " 'thriller'}"
      ]
     },
     "execution_count": 247,
     "metadata": {},
     "output_type": "execute_result"
    }
   ],
   "source": [
    "cat_unique"
   ]
  },
  {
   "cell_type": "markdown",
   "metadata": {},
   "source": [
    "## 9d - Transform into a Dataframe and save as CSV"
   ]
  },
  {
   "cell_type": "code",
   "execution_count": 240,
   "metadata": {},
   "outputs": [],
   "source": [
    "cat_final = pd.DataFrame(cat_unique, columns=['Categories'])"
   ]
  },
  {
   "cell_type": "code",
   "execution_count": 248,
   "metadata": {},
   "outputs": [
    {
     "data": {
      "text/html": [
       "<div>\n",
       "<style scoped>\n",
       "    .dataframe tbody tr th:only-of-type {\n",
       "        vertical-align: middle;\n",
       "    }\n",
       "\n",
       "    .dataframe tbody tr th {\n",
       "        vertical-align: top;\n",
       "    }\n",
       "\n",
       "    .dataframe thead th {\n",
       "        text-align: right;\n",
       "    }\n",
       "</style>\n",
       "<table border=\"1\" class=\"dataframe\">\n",
       "  <thead>\n",
       "    <tr style=\"text-align: right;\">\n",
       "      <th></th>\n",
       "      <th>Categories</th>\n",
       "    </tr>\n",
       "  </thead>\n",
       "  <tbody>\n",
       "    <tr>\n",
       "      <th>0</th>\n",
       "      <td>child</td>\n",
       "    </tr>\n",
       "    <tr>\n",
       "      <th>1</th>\n",
       "      <td>spanish-language</td>\n",
       "    </tr>\n",
       "    <tr>\n",
       "      <th>2</th>\n",
       "      <td>thriller</td>\n",
       "    </tr>\n",
       "    <tr>\n",
       "      <th>3</th>\n",
       "      <td>crime</td>\n",
       "    </tr>\n",
       "    <tr>\n",
       "      <th>4</th>\n",
       "      <td>nature</td>\n",
       "    </tr>\n",
       "  </tbody>\n",
       "</table>\n",
       "</div>"
      ],
      "text/plain": [
       "         Categories\n",
       "0             child\n",
       "1  spanish-language\n",
       "2          thriller\n",
       "3             crime\n",
       "4            nature"
      ]
     },
     "execution_count": 248,
     "metadata": {},
     "output_type": "execute_result"
    }
   ],
   "source": [
    "cat_final.head()"
   ]
  },
  {
   "cell_type": "code",
   "execution_count": 249,
   "metadata": {},
   "outputs": [],
   "source": [
    "cat_final = cat_final.to_csv('cat_final.csv', index=False)"
   ]
  },
  {
   "cell_type": "markdown",
   "metadata": {},
   "source": [
    "## Data Visualization"
   ]
  },
  {
   "cell_type": "code",
   "execution_count": 250,
   "metadata": {},
   "outputs": [
    {
     "data": {
      "text/plain": [
       "Type\n",
       "Movie      6126\n",
       "TV Show    2664\n",
       "Name: count, dtype: int64"
      ]
     },
     "execution_count": 250,
     "metadata": {},
     "output_type": "execute_result"
    }
   ],
   "source": [
    "movies_type = movies['Type'].value_counts()\n",
    "movies_type"
   ]
  },
  {
   "cell_type": "code",
   "execution_count": 256,
   "metadata": {},
   "outputs": [
    {
     "data": {
      "image/png": "[encoded data removed]",
      "text/plain": [
       "<Figure size 1000x500 with 1 Axes>"
      ]
     },
     "metadata": {},
     "output_type": "display_data"
    }
   ],
   "source": [
    "#%1.1f%%' one digit after comma and add the percentage symbol\n",
    "#colors = [\"#FE420F\", \"#FA8070\"] \n",
    "cmap = plt.get_cmap('Reds')\n",
    "plt.figure(figsize=(10,5))\n",
    "plt.pie(movies_type, labels=movies['Type'].value_counts().index, autopct='%1.1f%%', colors=colors,wedgeprops = {\"linewidth\": 1, \"edgecolor\": \"white\"})\n",
    "plt.show()"
   ]
  },
  {
   "cell_type": "markdown",
   "metadata": {},
   "source": [
    "## Classification Description:\n"
   ]
  },
  {
   "cell_type": "markdown",
   "metadata": {},
   "source": [
    "TV-MA (Mature Audiences Only): not suitable for children under 17.\n",
    "\n",
    "TV-14 (Parents Strongly Cautioned): Some material may not be suitable for children under 14.\n",
    "\n",
    "TV-PG (Parental Guidance Suggested): Some material may not be suitable for young children.\n",
    "\n",
    "R (Restricted): Restricted to viewers over 17 years old or those accompanied by a parent or adult guardian.\n",
    "\n",
    "PG-13 (Parents Strongly Cautioned): Some material may be inappropriate for children under 13 years old.\n",
    "\n",
    "TV-Y7 (Directed to Older Children): Intended for children age 7 and above.\n",
    "\n",
    "TV-Y (All Children): Suitable for all children.\n",
    "\n",
    "PG (Parental Guidance Suggested): Some material may not be suitable for young children.\n",
    "\n",
    "TV-G (General Audience): Suitable for all ages.\n",
    "\n",
    "NR (Not Rated): The content has not been assigned a specific rating.\n",
    "\n",
    "G (General Audience): Suitable for all ages.\n",
    "\n",
    "TV-Y7-FV (Directed to Older Children - Fantasy Violence): Intended for children age 7 and above.\n",
    "\n",
    "NC-17 (Adults Only): No one 17 and under admitted.\n",
    "\n",
    "UR (Unrated): The content has not been assigned a specific rating or is an unrated version of a rated film."
   ]
  },
  {
   "cell_type": "markdown",
   "metadata": {},
   "source": [
    "## Find the Top Ten Classification"
   ]
  },
  {
   "cell_type": "code",
   "execution_count": 252,
   "metadata": {},
   "outputs": [],
   "source": [
    "top10_class = movies['Classification'].value_counts().head(10)"
   ]
  },
  {
   "cell_type": "code",
   "execution_count": 182,
   "metadata": {},
   "outputs": [
    {
     "data": {
      "text/plain": [
       "Classification\n",
       "TV-MA    3205\n",
       "TV-14    2157\n",
       "TV-PG     861\n",
       "R         799\n",
       "PG-13     490\n",
       "TV-Y7     333\n",
       "TV-Y      306\n",
       "PG        287\n",
       "TV-G      220\n",
       "NR         79\n",
       "Name: count, dtype: int64"
      ]
     },
     "execution_count": 182,
     "metadata": {},
     "output_type": "execute_result"
    }
   ],
   "source": [
    "top10_class"
   ]
  },
  {
   "cell_type": "code",
   "execution_count": 253,
   "metadata": {},
   "outputs": [],
   "source": [
    "import matplotlib.patches as mpatches"
   ]
  },
  {
   "cell_type": "code",
   "execution_count": 262,
   "metadata": {},
   "outputs": [
    {
     "data": {
      "image/png": "[encoded data removed]",
      "text/plain": [
       "<Figure size 1000x500 with 1 Axes>"
      ]
     },
     "metadata": {},
     "output_type": "display_data"
    }
   ],
   "source": [
    "cmap = plt.get_cmap('Reds')\n",
    "colors = cmap(np.linspace(0, 1, 10))\n",
    "colors = colors[::-1]\n",
    "plt.figure(figsize=(10, 5))\n",
    "labels= ['Mature Audience Only', 'Parents Strongly Cautioned','Parental Guidance Suggested',\n",
    "        'Restricted - +17 y/o','Parents Strongly Cautioned','Directed to Older Children - +7 y/o',\n",
    "        'All Children', 'Parental Guidance Suggested', 'General Audience','Not Rated']\n",
    "\n",
    "top10_class.plot(kind='barh', color=colors, label='Ratings')\n",
    "plt.xlabel('Classification', color =\"#FF796C\")\n",
    "plt.ylabel('Count', color=\"#FF796C\")\n",
    "plt.gca().invert_yaxis()  # Invert the y-axis to have the highest frequency at the top\n",
    "plt.title('Top 10 Classifications', color=\"#FF796C\")\n",
    "\n",
    "patches = []\n",
    "for c, l in zip(colors, labels):\n",
    "    patches.append(mpatches.Patch(color=c,label=l))\n",
    "\n",
    "plt.legend(handles=patches)\n",
    "\n",
    "plt.show()"
   ]
  },
  {
   "cell_type": "code",
   "execution_count": 300,
   "metadata": {},
   "outputs": [
    {
     "data": {
      "text/html": [
       "<div>\n",
       "<style scoped>\n",
       "    .dataframe tbody tr th:only-of-type {\n",
       "        vertical-align: middle;\n",
       "    }\n",
       "\n",
       "    .dataframe tbody tr th {\n",
       "        vertical-align: top;\n",
       "    }\n",
       "\n",
       "    .dataframe thead th {\n",
       "        text-align: right;\n",
       "    }\n",
       "</style>\n",
       "<table border=\"1\" class=\"dataframe\">\n",
       "  <thead>\n",
       "    <tr style=\"text-align: right;\">\n",
       "      <th></th>\n",
       "      <th>Show_id</th>\n",
       "      <th>Type</th>\n",
       "      <th>Title</th>\n",
       "      <th>Director</th>\n",
       "      <th>Cast</th>\n",
       "      <th>Country</th>\n",
       "      <th>Date</th>\n",
       "      <th>Release_year</th>\n",
       "      <th>Classification</th>\n",
       "      <th>Duration</th>\n",
       "      <th>Category</th>\n",
       "      <th>Description</th>\n",
       "    </tr>\n",
       "  </thead>\n",
       "  <tbody>\n",
       "    <tr>\n",
       "      <th>0</th>\n",
       "      <td>s1</td>\n",
       "      <td>Movie</td>\n",
       "      <td>Dick Johnson Is Dead</td>\n",
       "      <td>Kirsten Johnson</td>\n",
       "      <td>Unknown</td>\n",
       "      <td>United States</td>\n",
       "      <td>2021-09-25</td>\n",
       "      <td>2020</td>\n",
       "      <td>PG-13</td>\n",
       "      <td>90 min</td>\n",
       "      <td>Documentaries</td>\n",
       "      <td>As her father nears the end of his life, filmm...</td>\n",
       "    </tr>\n",
       "    <tr>\n",
       "      <th>1</th>\n",
       "      <td>s2</td>\n",
       "      <td>TV Show</td>\n",
       "      <td>Blood &amp; Water</td>\n",
       "      <td>Unknown</td>\n",
       "      <td>Ama Qamata, Khosi Ngema, Gail Mabalane, Thaban...</td>\n",
       "      <td>South Africa</td>\n",
       "      <td>2021-09-24</td>\n",
       "      <td>2021</td>\n",
       "      <td>TV-MA</td>\n",
       "      <td>2 Seasons</td>\n",
       "      <td>International TV Shows, TV Dramas, TV Mysteries</td>\n",
       "      <td>After crossing paths at a party, a Cape Town t...</td>\n",
       "    </tr>\n",
       "    <tr>\n",
       "      <th>2</th>\n",
       "      <td>s3</td>\n",
       "      <td>TV Show</td>\n",
       "      <td>Ganglands</td>\n",
       "      <td>Julien Leclercq</td>\n",
       "      <td>Sami Bouajila, Tracy Gotoas, Samuel Jouy, Nabi...</td>\n",
       "      <td>Unknown</td>\n",
       "      <td>2021-09-24</td>\n",
       "      <td>2021</td>\n",
       "      <td>TV-MA</td>\n",
       "      <td>1 Season</td>\n",
       "      <td>Crime TV Shows, International TV Shows, TV Act...</td>\n",
       "      <td>To protect his family from a powerful drug lor...</td>\n",
       "    </tr>\n",
       "    <tr>\n",
       "      <th>3</th>\n",
       "      <td>s4</td>\n",
       "      <td>TV Show</td>\n",
       "      <td>Jailbirds New Orleans</td>\n",
       "      <td>Unknown</td>\n",
       "      <td>Unknown</td>\n",
       "      <td>Unknown</td>\n",
       "      <td>2021-09-24</td>\n",
       "      <td>2021</td>\n",
       "      <td>TV-MA</td>\n",
       "      <td>1 Season</td>\n",
       "      <td>Docuseries, Reality TV</td>\n",
       "      <td>Feuds, flirtations and toilet talk go down amo...</td>\n",
       "    </tr>\n",
       "    <tr>\n",
       "      <th>4</th>\n",
       "      <td>s5</td>\n",
       "      <td>TV Show</td>\n",
       "      <td>Kota Factory</td>\n",
       "      <td>Unknown</td>\n",
       "      <td>Mayur More, Jitendra Kumar, Ranjan Raj, Alam K...</td>\n",
       "      <td>India</td>\n",
       "      <td>2021-09-24</td>\n",
       "      <td>2021</td>\n",
       "      <td>TV-MA</td>\n",
       "      <td>2 Seasons</td>\n",
       "      <td>International TV Shows, Romantic TV Shows, TV ...</td>\n",
       "      <td>In a city of coaching centers known to train I...</td>\n",
       "    </tr>\n",
       "  </tbody>\n",
       "</table>\n",
       "</div>"
      ],
      "text/plain": [
       "  Show_id     Type                  Title         Director  \\\n",
       "0      s1    Movie   Dick Johnson Is Dead  Kirsten Johnson   \n",
       "1      s2  TV Show          Blood & Water          Unknown   \n",
       "2      s3  TV Show              Ganglands  Julien Leclercq   \n",
       "3      s4  TV Show  Jailbirds New Orleans          Unknown   \n",
       "4      s5  TV Show           Kota Factory          Unknown   \n",
       "\n",
       "                                                Cast        Country  \\\n",
       "0                                            Unknown  United States   \n",
       "1  Ama Qamata, Khosi Ngema, Gail Mabalane, Thaban...   South Africa   \n",
       "2  Sami Bouajila, Tracy Gotoas, Samuel Jouy, Nabi...        Unknown   \n",
       "3                                            Unknown        Unknown   \n",
       "4  Mayur More, Jitendra Kumar, Ranjan Raj, Alam K...          India   \n",
       "\n",
       "        Date  Release_year Classification   Duration  \\\n",
       "0 2021-09-25          2020          PG-13     90 min   \n",
       "1 2021-09-24          2021          TV-MA  2 Seasons   \n",
       "2 2021-09-24          2021          TV-MA   1 Season   \n",
       "3 2021-09-24          2021          TV-MA   1 Season   \n",
       "4 2021-09-24          2021          TV-MA  2 Seasons   \n",
       "\n",
       "                                            Category  \\\n",
       "0                                      Documentaries   \n",
       "1    International TV Shows, TV Dramas, TV Mysteries   \n",
       "2  Crime TV Shows, International TV Shows, TV Act...   \n",
       "3                             Docuseries, Reality TV   \n",
       "4  International TV Shows, Romantic TV Shows, TV ...   \n",
       "\n",
       "                                         Description  \n",
       "0  As her father nears the end of his life, filmm...  \n",
       "1  After crossing paths at a party, a Cape Town t...  \n",
       "2  To protect his family from a powerful drug lor...  \n",
       "3  Feuds, flirtations and toilet talk go down amo...  \n",
       "4  In a city of coaching centers known to train I...  "
      ]
     },
     "execution_count": 300,
     "metadata": {},
     "output_type": "execute_result"
    }
   ],
   "source": [
    "movies.head()"
   ]
  },
  {
   "cell_type": "code",
   "execution_count": 346,
   "metadata": {},
   "outputs": [
    {
     "data": {
      "image/png": "[encoded data removed]",
      "text/plain": [
       "<Figure size 1000x500 with 1 Axes>"
      ]
     },
     "metadata": {},
     "output_type": "display_data"
    }
   ],
   "source": [
    "cmap = plt.get_cmap('Reds')\n",
    "colors = cmap(np.linspace(0, 1, 10))\n",
    "colors = colors[::-1]\n",
    "plt.figure(figsize=(10, 5))\n",
    "top10_country.plot(kind='barh', color=colors, label='Countries')\n",
    "plt.xlabel('Count', color =\"#FF796C\")\n",
    "plt.ylabel('Countries', color=\"#FF796C\")\n",
    "plt.gca().invert_yaxis()  # Invert the y-axis to have the highest frequency at the top\n",
    "plt.title('Top 10 Countries', color=\"#FF796C\")\n",
    "\n",
    "\n",
    "plt.show()"
   ]
  },
  {
   "cell_type": "markdown",
   "metadata": {},
   "source": [
    "## Save movies as CSV"
   ]
  },
  {
   "cell_type": "code",
   "execution_count": 273,
   "metadata": {},
   "outputs": [],
   "source": [
    "movies = movies.to_csv('movies.csv', index=False)"
   ]
  },
  {
   "cell_type": "markdown",
   "metadata": {},
   "source": [
    "Create more CSVs"
   ]
  },
  {
   "cell_type": "code",
   "execution_count": null,
   "metadata": {},
   "outputs": [
    {
     "data": {
      "text/plain": [
       "Category\n",
       "Dramas, International Movies                                   362\n",
       "Documentaries                                                  359\n",
       "Stand-Up Comedy                                                334\n",
       "Comedies, Dramas, International Movies                         274\n",
       "Dramas, Independent Movies, International Movies               252\n",
       "                                                              ... \n",
       "Crime TV Shows, International TV Shows, TV Sci-Fi & Fantasy      1\n",
       "International TV Shows, TV Horror, TV Sci-Fi & Fantasy           1\n",
       "Crime TV Shows, Kids' TV                                         1\n",
       "Horror Movies, International Movies, Sci-Fi & Fantasy            1\n",
       "Cult Movies, Dramas, Thrillers                                   1\n",
       "Name: count, Length: 513, dtype: int64"
      ]
     },
     "metadata": {},
     "output_type": "display_data"
    }
   ],
   "source": [
    "num_records = movies['Category'].value_counts()\n",
    "num_records"
   ]
  },
  {
   "cell_type": "code",
   "execution_count": 347,
   "metadata": {},
   "outputs": [],
   "source": [
    "# Save the result as a DataFrame\n",
    "num_records_df = num_records.reset_index()\n",
    "num_records_df.columns = ['Category', 'Count']\n",
    "\n",
    "# Export the DataFrame to a CSV file\n",
    "num_records_df.to_csv('num_records.csv', index=False)"
   ]
  },
  {
   "cell_type": "code",
   "execution_count": 342,
   "metadata": {},
   "outputs": [
    {
     "data": {
      "text/html": [
       "<div>\n",
       "<style scoped>\n",
       "    .dataframe tbody tr th:only-of-type {\n",
       "        vertical-align: middle;\n",
       "    }\n",
       "\n",
       "    .dataframe tbody tr th {\n",
       "        vertical-align: top;\n",
       "    }\n",
       "\n",
       "    .dataframe thead th {\n",
       "        text-align: right;\n",
       "    }\n",
       "</style>\n",
       "<table border=\"1\" class=\"dataframe\">\n",
       "  <thead>\n",
       "    <tr style=\"text-align: right;\">\n",
       "      <th></th>\n",
       "      <th>Category</th>\n",
       "      <th>Count</th>\n",
       "    </tr>\n",
       "  </thead>\n",
       "  <tbody>\n",
       "    <tr>\n",
       "      <th>0</th>\n",
       "      <td>Dramas, International Movies</td>\n",
       "      <td>362</td>\n",
       "    </tr>\n",
       "    <tr>\n",
       "      <th>1</th>\n",
       "      <td>Documentaries</td>\n",
       "      <td>359</td>\n",
       "    </tr>\n",
       "    <tr>\n",
       "      <th>2</th>\n",
       "      <td>Stand-Up Comedy</td>\n",
       "      <td>334</td>\n",
       "    </tr>\n",
       "    <tr>\n",
       "      <th>3</th>\n",
       "      <td>Comedies, Dramas, International Movies</td>\n",
       "      <td>274</td>\n",
       "    </tr>\n",
       "    <tr>\n",
       "      <th>4</th>\n",
       "      <td>Dramas, Independent Movies, International Movies</td>\n",
       "      <td>252</td>\n",
       "    </tr>\n",
       "    <tr>\n",
       "      <th>...</th>\n",
       "      <td>...</td>\n",
       "      <td>...</td>\n",
       "    </tr>\n",
       "    <tr>\n",
       "      <th>508</th>\n",
       "      <td>Crime TV Shows, International TV Shows, TV Sci...</td>\n",
       "      <td>1</td>\n",
       "    </tr>\n",
       "    <tr>\n",
       "      <th>509</th>\n",
       "      <td>International TV Shows, TV Horror, TV Sci-Fi &amp;...</td>\n",
       "      <td>1</td>\n",
       "    </tr>\n",
       "    <tr>\n",
       "      <th>510</th>\n",
       "      <td>Crime TV Shows, Kids' TV</td>\n",
       "      <td>1</td>\n",
       "    </tr>\n",
       "    <tr>\n",
       "      <th>511</th>\n",
       "      <td>Horror Movies, International Movies, Sci-Fi &amp; ...</td>\n",
       "      <td>1</td>\n",
       "    </tr>\n",
       "    <tr>\n",
       "      <th>512</th>\n",
       "      <td>Cult Movies, Dramas, Thrillers</td>\n",
       "      <td>1</td>\n",
       "    </tr>\n",
       "  </tbody>\n",
       "</table>\n",
       "<p>513 rows × 2 columns</p>\n",
       "</div>"
      ],
      "text/plain": [
       "                                              Category  Count\n",
       "0                         Dramas, International Movies    362\n",
       "1                                        Documentaries    359\n",
       "2                                      Stand-Up Comedy    334\n",
       "3               Comedies, Dramas, International Movies    274\n",
       "4     Dramas, Independent Movies, International Movies    252\n",
       "..                                                 ...    ...\n",
       "508  Crime TV Shows, International TV Shows, TV Sci...      1\n",
       "509  International TV Shows, TV Horror, TV Sci-Fi &...      1\n",
       "510                           Crime TV Shows, Kids' TV      1\n",
       "511  Horror Movies, International Movies, Sci-Fi & ...      1\n",
       "512                     Cult Movies, Dramas, Thrillers      1\n",
       "\n",
       "[513 rows x 2 columns]"
      ]
     },
     "execution_count": 342,
     "metadata": {},
     "output_type": "execute_result"
    }
   ],
   "source": [
    "num_records_df"
   ]
  },
  {
   "cell_type": "markdown",
   "metadata": {},
   "source": [
    "## Top 10 Countries"
   ]
  },
  {
   "cell_type": "code",
   "execution_count": 357,
   "metadata": {},
   "outputs": [
    {
     "data": {
      "text/plain": [
       "Index(['Show_id', 'Type', 'Title', 'Director', 'Cast', 'Country', 'Date',\n",
       "       'Release_year', 'Classification', 'Duration',\n",
       "       ...\n",
       "       ' Dramas,  Sci-Fi & Fantasy, Teen  Shows', ' Dramas,  Thrillers',\n",
       "       ' Dramas, Teen  Shows', ' Horror,  Mysteries,  Sci-Fi & Fantasy',\n",
       "       ' Horror,  Mysteries,  Thrillers', ' Horror,  Mysteries, Teen  Shows',\n",
       "       ' Horror, Teen  Shows', ' Sci-Fi & Fantasy,  Thrillers', ' Shows',\n",
       "       'Thrillers'],\n",
       "      dtype='object', length=524)"
      ]
     },
     "execution_count": 357,
     "metadata": {},
     "output_type": "execute_result"
    }
   ],
   "source": [
    "movies_cat.columns"
   ]
  },
  {
   "cell_type": "code",
   "execution_count": null,
   "metadata": {},
   "outputs": [],
   "source": [
    "# Assume 'category_columns' is a list of the category columns\n",
    "category_columns = ['Category1', 'Category2', 'Category3', ...]\n",
    "\n",
    "# Group by 'Country' and sum each category column\n",
    "production_counts = movies.groupby('Country')[category_columns].sum().reset_index()\n",
    "\n",
    "# Print the DataFrame\n",
    "print(production_counts)"
   ]
  },
  {
   "cell_type": "code",
   "execution_count": 356,
   "metadata": {},
   "outputs": [
    {
     "data": {
      "text/html": [
       "<div>\n",
       "<style scoped>\n",
       "    .dataframe tbody tr th:only-of-type {\n",
       "        vertical-align: middle;\n",
       "    }\n",
       "\n",
       "    .dataframe tbody tr th {\n",
       "        vertical-align: top;\n",
       "    }\n",
       "\n",
       "    .dataframe thead th {\n",
       "        text-align: right;\n",
       "    }\n",
       "</style>\n",
       "<table border=\"1\" class=\"dataframe\">\n",
       "  <thead>\n",
       "    <tr style=\"text-align: right;\">\n",
       "      <th></th>\n",
       "      <th>Country</th>\n",
       "      <th>Category</th>\n",
       "      <th>Count</th>\n",
       "    </tr>\n",
       "  </thead>\n",
       "  <tbody>\n",
       "    <tr>\n",
       "      <th>0</th>\n",
       "      <td>, France, Algeria</td>\n",
       "      <td>Dramas, Independent Movies, International Movies</td>\n",
       "      <td>1</td>\n",
       "    </tr>\n",
       "    <tr>\n",
       "      <th>1</th>\n",
       "      <td>, South Korea</td>\n",
       "      <td>International TV Shows, TV Dramas</td>\n",
       "      <td>1</td>\n",
       "    </tr>\n",
       "    <tr>\n",
       "      <th>2</th>\n",
       "      <td>Argentina</td>\n",
       "      <td>Action &amp; Adventure, Comedies, International Mo...</td>\n",
       "      <td>1</td>\n",
       "    </tr>\n",
       "    <tr>\n",
       "      <th>3</th>\n",
       "      <td>Argentina</td>\n",
       "      <td>Action &amp; Adventure, Horror Movies, Internation...</td>\n",
       "      <td>1</td>\n",
       "    </tr>\n",
       "    <tr>\n",
       "      <th>4</th>\n",
       "      <td>Argentina</td>\n",
       "      <td>Children &amp; Family Movies, Music &amp; Musicals</td>\n",
       "      <td>1</td>\n",
       "    </tr>\n",
       "    <tr>\n",
       "      <th>...</th>\n",
       "      <td>...</td>\n",
       "      <td>...</td>\n",
       "      <td>...</td>\n",
       "    </tr>\n",
       "    <tr>\n",
       "      <th>2788</th>\n",
       "      <td>Vietnam</td>\n",
       "      <td>Dramas, International Movies</td>\n",
       "      <td>1</td>\n",
       "    </tr>\n",
       "    <tr>\n",
       "      <th>2789</th>\n",
       "      <td>Vietnam</td>\n",
       "      <td>Dramas, International Movies, Romantic Movies</td>\n",
       "      <td>1</td>\n",
       "    </tr>\n",
       "    <tr>\n",
       "      <th>2790</th>\n",
       "      <td>Vietnam</td>\n",
       "      <td>Horror Movies, International Movies, Thrillers</td>\n",
       "      <td>1</td>\n",
       "    </tr>\n",
       "    <tr>\n",
       "      <th>2791</th>\n",
       "      <td>West Germany</td>\n",
       "      <td>Documentaries, International Movies</td>\n",
       "      <td>1</td>\n",
       "    </tr>\n",
       "    <tr>\n",
       "      <th>2792</th>\n",
       "      <td>Zimbabwe</td>\n",
       "      <td>Comedies, International Movies, Romantic Movies</td>\n",
       "      <td>1</td>\n",
       "    </tr>\n",
       "  </tbody>\n",
       "</table>\n",
       "<p>2793 rows × 3 columns</p>\n",
       "</div>"
      ],
      "text/plain": [
       "                Country                                           Category  \\\n",
       "0     , France, Algeria   Dramas, Independent Movies, International Movies   \n",
       "1         , South Korea                  International TV Shows, TV Dramas   \n",
       "2             Argentina  Action & Adventure, Comedies, International Mo...   \n",
       "3             Argentina  Action & Adventure, Horror Movies, Internation...   \n",
       "4             Argentina         Children & Family Movies, Music & Musicals   \n",
       "...                 ...                                                ...   \n",
       "2788            Vietnam                       Dramas, International Movies   \n",
       "2789            Vietnam      Dramas, International Movies, Romantic Movies   \n",
       "2790            Vietnam     Horror Movies, International Movies, Thrillers   \n",
       "2791       West Germany                Documentaries, International Movies   \n",
       "2792           Zimbabwe    Comedies, International Movies, Romantic Movies   \n",
       "\n",
       "      Count  \n",
       "0         1  \n",
       "1         1  \n",
       "2         1  \n",
       "3         1  \n",
       "4         1  \n",
       "...     ...  \n",
       "2788      1  \n",
       "2789      1  \n",
       "2790      1  \n",
       "2791      1  \n",
       "2792      1  \n",
       "\n",
       "[2793 rows x 3 columns]"
      ]
     },
     "execution_count": 356,
     "metadata": {},
     "output_type": "execute_result"
    }
   ],
   "source": [
    "# Group by 'Country' and 'Category' and count the number of occurrences of each pair\n",
    "production_counts = movies.groupby(['Country', 'Category']).size().reset_index(name='Count')\n",
    "production_counts"
   ]
  },
  {
   "cell_type": "code",
   "execution_count": 348,
   "metadata": {},
   "outputs": [
    {
     "data": {
      "text/plain": [
       "Country\n",
       "United States     2809\n",
       "India              972\n",
       "Unknown            829\n",
       "United Kingdom     418\n",
       "Japan              243\n",
       "South Korea        199\n",
       "Canada             181\n",
       "Spain              145\n",
       "France             124\n",
       "Mexico             110\n",
       "Name: count, dtype: int64"
      ]
     },
     "execution_count": 348,
     "metadata": {},
     "output_type": "execute_result"
    }
   ],
   "source": [
    "top10_country"
   ]
  },
  {
   "cell_type": "code",
   "execution_count": null,
   "metadata": {},
   "outputs": [],
   "source": [
    "top10_country = top10_country.reset_index()\n",
    "top10_country.columns = ['Category', 'Count']\n",
    "\n",
    "# Export the DataFrame to a CSV file\n",
    "num_records_df.to_csv('num_records.csv', index=False)"
   ]
  }
 ],
 "metadata": {
  "kernelspec": {
   "display_name": "Python 3",
   "language": "python",
   "name": "python3"
  },
  "language_info": {
   "codemirror_mode": {
    "name": "ipython",
    "version": 3
   },
   "file_extension": ".py",
   "mimetype": "text/x-python",
   "name": "python",
   "nbconvert_exporter": "python",
   "pygments_lexer": "ipython3",
   "version": "3.12.0"
  }
 },
 "nbformat": 4,
 "nbformat_minor": 2
}
